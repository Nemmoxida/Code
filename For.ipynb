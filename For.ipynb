{
 "cells": [
  {
   "cell_type": "code",
   "execution_count": null,
   "id": "3db6e5b5-643f-4f3c-9b2c-6f2ce7db2eb7",
   "metadata": {},
   "outputs": [],
   "source": [
    "# for and while\n",
    "\n",
    "mondo = [\"jean\", \"razor\", \"venti\", \"diluc\"]\n",
    "\n",
    "for char in mondo:\n",
    "    print(f\"character list : {char}\")\n"
   ]
  },
  {
   "cell_type": "code",
   "execution_count": 26,
   "id": "d80e9f14-c2aa-4bd5-93dc-d36a0b6d3aa3",
   "metadata": {},
   "outputs": [
    {
     "name": "stdout",
     "output_type": "stream",
     "text": [
      "the average is : 63.0\n",
      "the total student that is passed the test : 2\n",
      "the total student that is not passed the test : 3\n"
     ]
    }
   ],
   "source": [
    "#avrg with for\n",
    "\n",
    "scores = [100, 80, 65, 12, 58]\n",
    "passed = 0\n",
    "total = 0\n",
    "\n",
    "for score in scores:\n",
    "    total += score\n",
    "    if score > 70:\n",
    "        passed += 1\n",
    "\n",
    "avrg = total / len(scores)\n",
    "\n",
    "\n",
    "print(f\"the average is : {avrg}\")\n",
    "print(f\"the total student that is passed the test : {passed}\")\n",
    "print(f\"the total student that is not passed the test : {len(scores) - passed}\")"
   ]
  },
  {
   "cell_type": "code",
   "execution_count": 63,
   "id": "206d311e-ae5b-47fb-b12c-47b4e161eaca",
   "metadata": {},
   "outputs": [
    {
     "name": "stdout",
     "output_type": "stream",
     "text": [
      "2\n",
      "[['yuuna', 50]]\n"
     ]
    }
   ],
   "source": [
    "dict = [[\"kermit\", 50], [\"yuuna\", 50]]\n",
    "dict2 = []\n",
    "\n",
    "print(len(dict))\n",
    "\n",
    "dict2.append(dict[1])\n",
    "\n",
    "print(dict2)"
   ]
  },
  {
   "cell_type": "code",
   "execution_count": 48,
   "id": "e4cbbcb8-6582-471c-9064-fd8dfc2eb0b3",
   "metadata": {},
   "outputs": [
    {
     "name": "stdin",
     "output_type": "stream",
     "text": [
      "input words AAAAAAAAA\n"
     ]
    },
    {
     "name": "stdout",
     "output_type": "stream",
     "text": [
      "total vocal words are : 9\n"
     ]
    }
   ],
   "source": [
    "word = input(\"input words\")\n",
    "vocalList = [\"a\", \"i\", \"u\", \"e\", \"o\"]\n",
    "vocal = 0\n",
    "\n",
    "for char in word:\n",
    "    if char.lower() in vocalList:\n",
    "        vocal += 1\n",
    "        \n",
    "\n",
    "print(f\"total vocal words are : {vocal}\")"
   ]
  },
  {
   "cell_type": "code",
   "execution_count": 55,
   "id": "69651800-4270-4f93-8cb6-b2c829d2f95e",
   "metadata": {},
   "outputs": [
    {
     "name": "stdout",
     "output_type": "stream",
     "text": [
      "[1, 4, 9, 16, 25]\n",
      "[False, False, False, False, False]\n"
     ]
    }
   ],
   "source": [
    "# for list comprehension\n",
    "\n",
    "numbers = [1,2,3,4,5]\n",
    "numbers2 = [x == numbers for x in numbers]\n",
    "exponent = [x**2 for x in numbers]\n",
    "print(exponent)\n",
    "print(numbers2)"
   ]
  },
  {
   "cell_type": "code",
   "execution_count": 58,
   "id": "02f57203-3e36-49b6-9430-912e31c983e9",
   "metadata": {},
   "outputs": [
    {
     "name": "stdout",
     "output_type": "stream",
     "text": [
      "0 Monday\n",
      "1 Tuesday\n",
      "2 Wednesdays\n",
      "3 Thursday\n",
      "4 Friday\n",
      "5 Saturday\n",
      "6 Sunday\n"
     ]
    }
   ],
   "source": [
    "# for unumerate\n",
    "\n",
    "days = [\"Monday\", \"Tuesday\", \"Wednesdays\", \"Thursday\", \"Friday\", \"Saturday\", \"Sunday\"]\n",
    "\n",
    "for x,d in enumerate(days):\n",
    "    print(x,d)"
   ]
  },
  {
   "cell_type": "code",
   "execution_count": 1,
   "id": "cedf5bd4-8a20-484a-827c-f926cf69c3d1",
   "metadata": {},
   "outputs": [
    {
     "name": "stdout",
     "output_type": "stream",
     "text": [
      "Total men chairs : 2\n",
      "Total woman chairs : 1\n"
     ]
    }
   ],
   "source": [
    "chairs = [\"M\", \"M\", \"W\"]\n",
    "boys = 0\n",
    "\n",
    "for chair in chairs:\n",
    "    if chair == \"M\":\n",
    "        boys += 1\n",
    "\n",
    "print(f\"Total men chairs : {boys}\")\n",
    "print(f\"Total woman chairs : {len(chairs)-boys}\")"
   ]
  },
  {
   "cell_type": "code",
   "execution_count": 18,
   "id": "17ec0d1f-e8c3-492b-9b68-f5ba9ad821ac",
   "metadata": {},
   "outputs": [
    {
     "name": "stdout",
     "output_type": "stream",
     "text": [
      "3\n"
     ]
    }
   ],
   "source": [
    "chairs = [\"P\", \"L\", \"P\", \"L\"]\n",
    "coupleTotal = 0\n",
    "\n",
    "for i,x in enumerate(chairs):\n",
    "    if i < len(chairs) - 1:\n",
    "        if chairs[i] != chairs[i+1]:\n",
    "            coupleTotal += 1\n",
    "\n",
    "print(coupleTotal)"
   ]
  },
  {
   "cell_type": "code",
   "execution_count": 36,
   "id": "a503b76c-624e-41bf-9236-cf80c236e3b7",
   "metadata": {},
   "outputs": [
    {
     "name": "stdout",
     "output_type": "stream",
     "text": [
      "Deez 5  Deez 6  Deez 7  Deez 8  Deez 9  Deez 10  Deez 11  Deez 12  Deez 13  Deez 14  \n",
      "10  -20  30  -40  50  -60  70  -80  90  -100  \n",
      "10  8  6  4  2  \n",
      "1  3  5  7  9  "
     ]
    }
   ],
   "source": [
    "# for range\n",
    "for i in range(5,15):\n",
    "    print(f\"Deez {i}\", \" \", end=\"\")\n",
    "print()\n",
    "multiply = 1\n",
    "for j in range(1,11):\n",
    "    print(j*multiply*10, \" \", end=\"\")\n",
    "    multiply *= -1\n",
    "\n",
    "print()\n",
    "for k in range(10,1,-2):\n",
    "    print(k, \" \", end=\"\")\n",
    "\n",
    "print()\n",
    "for k in range(1,10,2):\n",
    "    print(k, \" \", end=\"\")"
   ]
  },
  {
   "cell_type": "code",
   "execution_count": 45,
   "id": "0f0a05d6-1d90-4079-9ee6-07b6162ede14",
   "metadata": {},
   "outputs": [
    {
     "name": "stdout",
     "output_type": "stream",
     "text": [
      "120\n"
     ]
    }
   ],
   "source": [
    "# factorial\n",
    "\n",
    "x = 5\n",
    "xFactor = x\n",
    "for i in range(x-1, 0, -1):\n",
    "    xFactor *= i\n",
    "\n",
    "print(xFactor)"
   ]
  },
  {
   "cell_type": "code",
   "execution_count": 52,
   "id": "cbe6d491-4d91-44fe-ae2d-269367e22a2a",
   "metadata": {},
   "outputs": [
    {
     "name": "stdin",
     "output_type": "stream",
     "text": [
      "Input a number 1000\n"
     ]
    },
    {
     "name": "stdout",
     "output_type": "stream",
     "text": [
      "1000 is not a prime\n"
     ]
    }
   ],
   "source": [
    "# Check prime number\n",
    "number = int(input(\"Input a number\"))\n",
    "total = 0\n",
    "\n",
    "for i in range(1, number+1):\n",
    "    if(number % i == 0):\n",
    "        total += 1\n",
    "\n",
    "if(total == 2):\n",
    "    print(f\"{number} is a prime\")\n",
    "else:\n",
    "    print(f\"{number} is not a prime\")"
   ]
  }
 ],
 "metadata": {
  "kernelspec": {
   "display_name": "Python 3 (ipykernel)",
   "language": "python",
   "name": "python3"
  },
  "language_info": {
   "codemirror_mode": {
    "name": "ipython",
    "version": 3
   },
   "file_extension": ".py",
   "mimetype": "text/x-python",
   "name": "python",
   "nbconvert_exporter": "python",
   "pygments_lexer": "ipython3",
   "version": "3.12.7"
  }
 },
 "nbformat": 4,
 "nbformat_minor": 5
}
