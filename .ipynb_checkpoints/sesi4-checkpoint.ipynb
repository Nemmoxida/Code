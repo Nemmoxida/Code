{
 "cells": [
  {
   "cell_type": "code",
   "execution_count": 1,
   "metadata": {},
   "outputs": [
    {
     "name": "stdout",
     "output_type": "stream",
     "text": [
      "sisa bagi rata apel yang budi berikan kepada teman-temannya adalah 0\n",
      "budi menambahkan 8 apel menjadi 8\n"
     ]
    }
   ],
   "source": [
    "# Aritmatika\n",
    "budi = 12\n",
    "teman = 4\n",
    "\n",
    "bagiRata = budi%teman\n",
    "budi = bagiRata\n",
    "print(\"sisa bagi rata apel yang budi berikan kepada teman-temannya adalah\",budi)\n",
    "budi += 8\n",
    "print(\"budi menambahkan 8 apel menjadi\",budi)"
   ]
  },
  {
   "cell_type": "code",
   "execution_count": 2,
   "metadata": {},
   "outputs": [
    {
     "name": "stdout",
     "output_type": "stream",
     "text": [
      "apakah tinggi siti lebih kecil dari tinggi andi? True\n"
     ]
    }
   ],
   "source": [
    "# Perbandingan\n",
    "siti = 160\n",
    "andi = 165\n",
    "\n",
    "banding = siti < andi\n",
    "print(\"apakah tinggi siti lebih kecil dari tinggi andi?\",banding)"
   ]
  },
  {
   "cell_type": "code",
   "execution_count": 3,
   "metadata": {},
   "outputs": [
    {
     "name": "stdout",
     "output_type": "stream",
     "text": [
      "apakah budi bisa bermain? True\n"
     ]
    }
   ],
   "source": [
    "# Logika\n",
    "budiSelesaiPr = True\n",
    "cuacaCerah = True\n",
    "\n",
    "hasil = budiSelesaiPr and cuacaCerah\n",
    "print(\"apakah budi bisa bermain?\",hasil)"
   ]
  },
  {
   "cell_type": "code",
   "execution_count": 9,
   "metadata": {},
   "outputs": [
    {
     "name": "stdout",
     "output_type": "stream",
     "text": [
      "hasil dari 6 & 3 adalah 2\n",
      "hasil dari 6 | 3 adalah 7\n",
      "hasil dari 6 ^ 3 adalah 5\n"
     ]
    }
   ],
   "source": [
    "# Bitwise\n",
    "x = 6\n",
    "y = 3\n",
    "\n",
    "hasilAnd = x & y\n",
    "hasilOr = x | y\n",
    "hasilXor = x ^ y\n",
    "print(\"hasil dari 6 & 3 adalah\",hasilAnd)\n",
    "print(\"hasil dari 6 | 3 adalah\",hasilOr)\n",
    "print(\"hasil dari 6 ^ 3 adalah\",hasilXor)\n"
   ]
  },
  {
   "cell_type": "code",
   "execution_count": 5,
   "metadata": {},
   "outputs": [
    {
     "name": "stdout",
     "output_type": "stream",
     "text": [
      "pulsa awal 50000\n",
      "pulsa setelah ditambah 20000 70000\n",
      "pulsa setelah dikurangi 50000 20000\n"
     ]
    }
   ],
   "source": [
    "# Assignment\n",
    "pulsa = 50000\n",
    "print(\"pulsa awal\",pulsa)\n",
    "pulsa += 20000\n",
    "print(\"pulsa setelah ditambah 20000\",pulsa)\n",
    "pulsa -= 50000\n",
    "print(\"pulsa setelah dikurangi 50000\",pulsa)"
   ]
  },
  {
   "cell_type": "code",
   "execution_count": 6,
   "metadata": {},
   "outputs": [
    {
     "name": "stdout",
     "output_type": "stream",
     "text": [
      "True\n",
      "True\n",
      "True\n"
     ]
    }
   ],
   "source": [
    "# Keanggotaan\n",
    "perserta = [\"budi\",\"siti\",\"andi\", \"eka\"]\n",
    "print(\"eka\" in perserta)\n",
    "kalimat = \"Saya suka belajar python\"\n",
    "print(\"suka\" in kalimat)\n",
    "kalimat2 = \"Saya suka hujat PHP\"\n",
    "print(\"hujat\" in kalimat2)\n"
   ]
  },
  {
   "cell_type": "code",
   "execution_count": 7,
   "metadata": {},
   "outputs": [
    {
     "name": "stdout",
     "output_type": "stream",
     "text": [
      "True\n",
      "False\n"
     ]
    }
   ],
   "source": [
    "# Identitas\n",
    "x = 5\n",
    "y = 5\n",
    "print(x is y)\n",
    "\n",
    "list = [1,2,3]\n",
    "list2 = [1,2,3]\n",
    "print(list is list2)"
   ]
  },
  {
   "cell_type": "code",
   "execution_count": 11,
   "metadata": {},
   "outputs": [
    {
     "name": "stdin",
     "output_type": "stream",
     "text": [
      "Masukkan nilai x:  1000\n"
     ]
    },
    {
     "name": "stdout",
     "output_type": "stream",
     "text": [
      "Lebih besar\n"
     ]
    },
    {
     "name": "stdin",
     "output_type": "stream",
     "text": [
      "Masukkan nilai:  10\n"
     ]
    },
    {
     "name": "stdout",
     "output_type": "stream",
     "text": [
      "Tidak lulus\n"
     ]
    }
   ],
   "source": [
    "# Ternary\n",
    "x = int(input(\"Masukkan nilai x: \")) \n",
    "hasil = \"Lebih kecil\" if x < 100 else \"Lebih besar\"\n",
    "print(hasil)\n",
    "\n",
    "nilai = int(input(\"Masukkan nilai: \"))\n",
    "evaluasi = \"Lulus\" if nilai > 70 else \"Tidak lulus\"\n",
    "print(evaluasi)"
   ]
  }
 ],
 "metadata": {
  "kernelspec": {
   "display_name": "Python 3 (ipykernel)",
   "language": "python",
   "name": "python3"
  },
  "language_info": {
   "codemirror_mode": {
    "name": "ipython",
    "version": 3
   },
   "file_extension": ".py",
   "mimetype": "text/x-python",
   "name": "python",
   "nbconvert_exporter": "python",
   "pygments_lexer": "ipython3",
   "version": "3.12.7"
  }
 },
 "nbformat": 4,
 "nbformat_minor": 4
}
