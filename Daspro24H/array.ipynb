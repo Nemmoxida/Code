{
 "cells": [
  {
   "cell_type": "code",
   "execution_count": 19,
   "id": "068175fa-cb5a-47da-9cdf-53404a27ff09",
   "metadata": {},
   "outputs": [
    {
     "name": "stdout",
     "output_type": "stream",
     "text": [
      "[4 3 2 1]\n",
      "[2 4]\n",
      "<class 'numpy.ndarray'>\n",
      "4\n"
     ]
    }
   ],
   "source": [
    "import numpy as np\n",
    "\n",
    "a = np.array([1,2,3,4])\n",
    "\n",
    "print(a[::-1])\n",
    "print(a[1::2])\n",
    "print(type(a))\n",
    "print(len(a))"
   ]
  },
  {
   "cell_type": "code",
   "execution_count": 29,
   "id": "26160673-2a06-4cea-b192-9a35bd91554a",
   "metadata": {},
   "outputs": [
    {
     "name": "stdout",
     "output_type": "stream",
     "text": [
      "[[2 4]\n",
      " [6 8]]\n",
      "\n",
      "[[0 0]\n",
      " [0 0]]\n",
      "\n",
      "[[ 1  4]\n",
      " [ 9 16]]\n",
      "\n",
      "[[ 7 10]\n",
      " [15 22]]\n",
      "\n",
      "[[ 7 10]\n",
      " [15 22]]\n"
     ]
    }
   ],
   "source": [
    "import numpy as np\n",
    "\n",
    "matrixA = np.array([[1,2]\n",
    "                   ,[3,4]])\n",
    "\n",
    "matrixB = np.array([[1,2]\n",
    "                   ,[3,4]])\n",
    "\n",
    "addition = matrixA + matrixB\n",
    "subtraction = matrixA - matrixB\n",
    "multiply = matrixA * matrixB # Perkalian per element\n",
    "multiply2 = matrixA@matrixB\n",
    "multiply3 = np.dot(matrixA, matrixB)\n",
    "\n",
    "print(addition)\n",
    "print()\n",
    "print(subtraction)\n",
    "print()\n",
    "print(multiply)\n",
    "print()\n",
    "print(multiply2)\n",
    "print()\n",
    "print(multiply3)"
   ]
  },
  {
   "cell_type": "code",
   "execution_count": 21,
   "id": "523e84a6-4887-4979-8e2b-df1d28ab3529",
   "metadata": {},
   "outputs": [
    {
     "name": "stdout",
     "output_type": "stream",
     "text": [
      "[ 4. -1.]\n"
     ]
    }
   ],
   "source": [
    "import numpy as np\n",
    "\n",
    "point = np.array([1,\n",
    "                  4])\n",
    "\n",
    "theta = np.pi/2\n",
    "\n",
    "rotasi_90 = np.array([\n",
    "    [np.cos(theta), -np.sin(theta)],\n",
    "    [np.sin(theta),  np.cos(theta)]\n",
    "])\n",
    "\n",
    "hasil = point @ rotasi_90\n",
    "\n",
    "print(np.round(hasil))"
   ]
  },
  {
   "cell_type": "code",
   "execution_count": 4,
   "id": "e008eda3-5460-406f-81ef-4b8c098ef6d4",
   "metadata": {
    "scrolled": true
   },
   "outputs": [
    {
     "name": "stdout",
     "output_type": "stream",
     "text": [
      "[[1 0 0 0 0]\n",
      " [0 0 0 0 0]\n",
      " [0 0 0 0 0]\n",
      " [0 0 0 0 0]\n",
      " [0 0 0 0 0]]\n",
      "[[0 0 0 0 0]\n",
      " [0 1 0 0 0]\n",
      " [0 0 0 0 0]\n",
      " [0 0 0 0 0]\n",
      " [0 0 0 0 0]]\n",
      "[[0 0 0 0 0]\n",
      " [0 0 0 0 0]\n",
      " [0 0 1 0 0]\n",
      " [0 0 0 0 0]\n",
      " [0 0 0 0 0]]\n",
      "[[0 0 0 0 0]\n",
      " [0 0 0 0 0]\n",
      " [0 0 0 0 0]\n",
      " [0 0 0 1 0]\n",
      " [0 0 0 0 0]]\n",
      "[[0 0 0 0 0]\n",
      " [0 0 0 0 0]\n",
      " [0 0 0 0 0]\n",
      " [0 0 0 0 0]\n",
      " [0 0 0 0 1]]\n"
     ]
    }
   ],
   "source": [
    "import numpy as np\n",
    "\n",
    "matrix = np.zeros((5, 5), dtype=int)\n",
    "\n",
    "for i in range(len(matrix)):\n",
    "    matrix[i][i] = 1\n",
    "    if(i > 0):\n",
    "        matrix[i-1][i - 1] = 0\n",
    "    print(matrix)"
   ]
  },
  {
   "cell_type": "code",
   "execution_count": 16,
   "id": "c1a62d71-1c99-4c18-859d-d506259f548c",
   "metadata": {},
   "outputs": [
    {
     "name": "stdout",
     "output_type": "stream",
     "text": [
      "-0.0\n",
      "1.0\n"
     ]
    }
   ],
   "source": [
    "import numpy as np\n",
    "\n",
    "x = np.cos(90)\n",
    "x2 = np.sin(90)\n",
    "\n",
    "print(np.round(x))\n",
    "print(np.round(x2))"
   ]
  }
 ],
 "metadata": {
  "kernelspec": {
   "display_name": "Python 3 (ipykernel)",
   "language": "python",
   "name": "python3"
  },
  "language_info": {
   "codemirror_mode": {
    "name": "ipython",
    "version": 3
   },
   "file_extension": ".py",
   "mimetype": "text/x-python",
   "name": "python",
   "nbconvert_exporter": "python",
   "pygments_lexer": "ipython3",
   "version": "3.12.7"
  }
 },
 "nbformat": 4,
 "nbformat_minor": 5
}
