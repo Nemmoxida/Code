{
 "cells": [
  {
   "cell_type": "code",
   "execution_count": 44,
   "id": "7303c7f3-7929-4239-8f5e-62554aa2bb2a",
   "metadata": {},
   "outputs": [],
   "source": [
    "import ast"
   ]
  },
  {
   "cell_type": "code",
   "execution_count": 76,
   "id": "a9a5849c-a8aa-4c24-b6b5-7d1fadd6d0c8",
   "metadata": {},
   "outputs": [
    {
     "name": "stdout",
     "output_type": "stream",
     "text": [
      "\n",
      "Pilihan\n",
      "1. Tambahkan data\n",
      "2. Tampilkan Data\n",
      "3. Exit\n",
      "4. Cari Data\n"
     ]
    },
    {
     "name": "stdin",
     "output_type": "stream",
     "text": [
      "Input 4\n"
     ]
    },
    {
     "name": "stdout",
     "output_type": "stream",
     "text": [
      "WIP\n"
     ]
    },
    {
     "name": "stdin",
     "output_type": "stream",
     "text": [
      "masukan data macam apa yang ingin dicari (nim, nama, alamat, kelas) kelas\n",
      "masukan data TI24H\n"
     ]
    },
    {
     "name": "stdout",
     "output_type": "stream",
     "text": [
      "({'nim': '11111111111', 'nama': 'asasd', 'alamat': 'asdsad', 'kelas': 'TI24H'}, {'nim': '12345678901', 'nama': 'yuuna', 'alamat': 'ampera', 'kelas': 'TI24G'})\n",
      "<class 'tuple'>\n"
     ]
    },
    {
     "ename": "TypeError",
     "evalue": "tuple indices must be integers or slices, not str",
     "output_type": "error",
     "traceback": [
      "\u001b[1;31m---------------------------------------------------------------------------\u001b[0m",
      "\u001b[1;31mTypeError\u001b[0m                                 Traceback (most recent call last)",
      "Cell \u001b[1;32mIn[76], line 68\u001b[0m\n\u001b[0;32m     66\u001b[0m         \u001b[38;5;28mprint\u001b[39m(result)\n\u001b[0;32m     67\u001b[0m         \u001b[38;5;28mprint\u001b[39m(\u001b[38;5;28mtype\u001b[39m(result))\n\u001b[1;32m---> 68\u001b[0m         showData \u001b[38;5;241m=\u001b[39m [d \u001b[38;5;28;01mfor\u001b[39;00m d \u001b[38;5;129;01min\u001b[39;00m result \u001b[38;5;28;01mif\u001b[39;00m result[key] \u001b[38;5;241m==\u001b[39m keyWord]\n\u001b[0;32m     69\u001b[0m         \u001b[38;5;28mprint\u001b[39m(showData)\n\u001b[0;32m     70\u001b[0m \u001b[38;5;28;01melse\u001b[39;00m:\n",
      "\u001b[1;31mTypeError\u001b[0m: tuple indices must be integers or slices, not str"
     ]
    }
   ],
   "source": [
    "class InputDataError(Exception):\n",
    "    pass\n",
    "\n",
    "def dataCheck(data):\n",
    "    kelas = [\"TI24H\", \"TI24F\", \"TI24G\", \"TI24Z\"]\n",
    "    if len(data[\"nim\"]) != 11:\n",
    "        raise InputDataError(\"Nim mush have the legth of 11 character\")\n",
    "    elif len(data[\"nama\"]) <3:\n",
    "        raise InputDataError(\"Name need to be more than 3 character\")\n",
    "    elif len(data[\"alamat\"]) <5:\n",
    "        raise InputDataError(\"Address need to be more than 5 character\")\n",
    "    elif data[\"kelas\"] not in kelas:\n",
    "        raise InputDataError(\"Class in not in the list\")\n",
    "\n",
    "while True:\n",
    "    print()\n",
    "    print(\"Pilihan\")\n",
    "    print(\"1. Tambahkan data\")\n",
    "    print(\"2. Tampilkan Data\")\n",
    "    print(\"3. Exit\")\n",
    "    print(\"4. Cari Data\")\n",
    "    choice1 = int(input(\"Input\"))\n",
    "    if choice1 == 1:\n",
    "        try:\n",
    "            data = {\n",
    "                \"nim\" : \"00000000000\",\n",
    "                \"nama\" : \"123\",\n",
    "                \"alamat\" : \"12345\",\n",
    "                \"kelas\" : \"TI24H\"\n",
    "            }\n",
    "            nim = input(\"NIM\")\n",
    "            data[\"nim\"] = nim\n",
    "            dataCheck(data)\n",
    "            nama = input(\"Nama\")\n",
    "            data[\"nama\"] = nama\n",
    "            dataCheck(data)\n",
    "            alamat = input(\"Alamat\")\n",
    "            data[\"alamat\"] = alamat\n",
    "            dataCheck(data)\n",
    "            kelas = input(\"Kelas\")\n",
    "            data[\"kelas\"] = kelas\n",
    "            dataCheck(data)\n",
    "\n",
    "\n",
    "\n",
    "        except InputDataError as e:\n",
    "            print(e)\n",
    "        else:\n",
    "            with open(\"test.txt\", \"a\") as f:\n",
    "                f.write(str(data))\n",
    "            print(f\"data telah di tambahkan {data}\")\n",
    "    \n",
    "    elif choice1 == 2:\n",
    "        print(\"Data :\")\n",
    "        with open(\"test.txt\", \"r\")as f:\n",
    "            print(f.read())\n",
    "    elif choice1 == 3:\n",
    "        break\n",
    "    elif choice1 == 4:\n",
    "        print(\"WIP\")\n",
    "        key = input(\"masukan data macam apa yang ingin dicari (nim, nama, alamat, kelas)\")\n",
    "        keyWord = input(\"masukan data\")\n",
    "        with open(\"test.txt\", \"r\") as f:\n",
    "            data = f.read()\n",
    "            result = ast.literal_eval(data)\n",
    "            print(result)\n",
    "            print(type(result))\n",
    "            showData = [d for d in result if result[key] == keyWord]\n",
    "            print(showData)\n",
    "    else:\n",
    "        print(\"no \")"
   ]
  },
  {
   "cell_type": "code",
   "execution_count": 74,
   "id": "3210fdfb-e7c7-4ac6-ab25-3a271fdc12cf",
   "metadata": {},
   "outputs": [
    {
     "name": "stdout",
     "output_type": "stream",
     "text": [
      "<class 'list'>\n"
     ]
    }
   ],
   "source": [
    "x = [\n",
    "    {    \"name\" : \"kkk\",\n",
    "    \"asd\" : \"asdwawdw\"},{    \"name\" : \"kkk\",\n",
    "    \"asd\" : \"aaaa\"}\n",
    "]\n",
    "\n",
    "    \n",
    "# g = input(\"\")\n",
    "# h = input(\"\")\n",
    "     \n",
    "\n",
    "# y = [item for item in x if item[g] == h]\n",
    "\n",
    "# print(y)\n",
    "print(type(x))"
   ]
  },
  {
   "cell_type": "code",
   "execution_count": 59,
   "id": "508d9f5f-7c71-48fb-94f5-1776c2f52aed",
   "metadata": {},
   "outputs": [
    {
     "name": "stdout",
     "output_type": "stream",
     "text": [
      "{'nim': '11111111111', 'nama': 'asasd', 'alamat': 'asdsad', 'kelas': 'TI24H'}\n"
     ]
    }
   ],
   "source": [
    "with open(\"test.txt\", \"r\") as f:\n",
    "    d = f.read()\n",
    "    print(d)"
   ]
  }
 ],
 "metadata": {
  "kernelspec": {
   "display_name": "Python 3 (ipykernel)",
   "language": "python",
   "name": "python3"
  },
  "language_info": {
   "codemirror_mode": {
    "name": "ipython",
    "version": 3
   },
   "file_extension": ".py",
   "mimetype": "text/x-python",
   "name": "python",
   "nbconvert_exporter": "python",
   "pygments_lexer": "ipython3",
   "version": "3.12.7"
  }
 },
 "nbformat": 4,
 "nbformat_minor": 5
}
