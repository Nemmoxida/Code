{
 "cells": [
  {
   "cell_type": "code",
<<<<<<< HEAD
   "execution_count": 1,
=======
   "execution_count": 9,
>>>>>>> master
   "id": "878e2ea8-f2cd-4a7b-a0f8-5524b73dfb0c",
   "metadata": {},
   "outputs": [],
   "source": [
    "import math as mt\n",
<<<<<<< HEAD
    "import convert as cnv"
=======
    "import convert as cnv\n",
    "import numConvert as nc"
>>>>>>> master
   ]
  },
  {
   "cell_type": "code",
<<<<<<< HEAD
   "execution_count": 2,
=======
   "execution_count": null,
>>>>>>> master
   "id": "6c5c317b-ca14-4308-894a-1306caae8fb5",
   "metadata": {
    "scrolled": true
   },
   "outputs": [
    {
     "name": "stdout",
     "output_type": "stream",
     "text": [
      "\n",
      "    1. Aritmethic\n",
      "    2. Convert\n",
<<<<<<< HEAD
      "    3. Exit\n",
      "    \n"
     ]
    },
    {
     "name": "stdin",
     "output_type": "stream",
     "text": [
      "Pick choise 2\n"
     ]
    },
    {
     "name": "stdout",
     "output_type": "stream",
     "text": [
      "\n",
      "    1. cm to m\n",
      "    2. m to cm\n",
      "    3. celcius to farenheit\n",
      "    4. exit\n",
      "    \n"
     ]
    },
    {
     "name": "stdin",
     "output_type": "stream",
     "text": [
      "pick function 3\n"
     ]
    },
    {
     "name": "stdout",
     "output_type": "stream",
     "text": [
      "WIP\n",
      "\n",
      "    1. Aritmethic\n",
      "    2. Convert\n",
      "    3. Exit\n",
      "    \n"
     ]
    },
    {
     "name": "stdin",
     "output_type": "stream",
     "text": [
      "Pick choise 2\n"
     ]
    },
    {
     "name": "stdout",
     "output_type": "stream",
     "text": [
      "\n",
      "    1. cm to m\n",
      "    2. m to cm\n",
      "    3. celcius to farenheit\n",
      "    4. exit\n",
      "    \n"
     ]
    },
    {
     "name": "stdin",
     "output_type": "stream",
     "text": [
      "pick function 1\n"
     ]
    },
    {
     "name": "stdout",
     "output_type": "stream",
     "text": [
      "input value of cm\n"
     ]
    },
    {
     "name": "stdin",
     "output_type": "stream",
     "text": [
      "value 10000\n"
     ]
    },
    {
     "name": "stdout",
     "output_type": "stream",
     "text": [
      "the result is : 100.0 m\n",
      "\n",
      "    1. Aritmethic\n",
      "    2. Convert\n",
      "    3. Exit\n",
      "    \n"
     ]
    },
    {
     "name": "stdin",
     "output_type": "stream",
     "text": [
      "Pick choise 3\n"
     ]
=======
      "    3. Convert Decimal\n",
      "    4. Exit\n",
      "    \n",
      "\n",
      "    1. Decimal to Binary\n",
      "    2. Decimal to Octal\n",
      "    3. Decimal to Hexadecimal\n",
      "    4. Exit\n",
      "    \n",
      "input value binary\n",
      "the result is : 1 dec\n",
      "\n",
      "    1. Aritmethic\n",
      "    2. Convert\n",
      "    3. Convert Decimal\n",
      "    4. Exit\n",
      "    \n"
     ]
>>>>>>> master
    }
   ],
   "source": [
    "def mainMenu():\n",
    "    print(\"\"\"\n",
    "    1. Aritmethic\n",
    "    2. Convert\n",
<<<<<<< HEAD
    "    3. Exit\n",
    "    \"\"\")\n",
    "\n",
=======
    "    3. Convert Decimal\n",
    "    4. Exit\n",
    "    \"\"\")\n",
    "\n",
    "# Aritmethic Menu\n",
    "\n",
>>>>>>> master
    "def aritMenu():\n",
    "    print(\"\"\"\n",
    "    1. add\n",
    "    2. power of\n",
    "    3. multiply\n",
    "    4. exit\n",
    "    \"\"\")\n",
    "\n",
    "def aritAdd():\n",
    "    print(\"Add 2 value\")\n",
    "    x = int(input(\"add value\"))\n",
    "    y = int(input(\"add value\"))\n",
    "\n",
    "    result = mt.sum(x,y)\n",
    "    print(f\"the result is : {result}\")\n",
    "\n",
    "def aritPow():\n",
    "    print(\"Add 2 value, base and power\")\n",
    "    x = int(input(\"add value\"))\n",
    "    y = int(input(\"add value\"))\n",
    "\n",
    "    result = mt.pow(x,y)\n",
    "    print(f\"the result is : {result}\")\n",
    "    \n",
    "def aritMulti():\n",
    "    print(\"Add 2 value\")\n",
    "    x = int(input(\"add value\"))\n",
    "    y = int(input(\"add value\"))\n",
    "\n",
    "    result = mt.multi(x,y)\n",
    "    print(f\"the result is : {result}\")\n",
    "\n",
<<<<<<< HEAD
=======
    "# Convert Menu\n",
    "\n",
>>>>>>> master
    "def convertMenu():\n",
    "    print(\"\"\"\n",
    "    1. cm to m\n",
    "    2. m to cm\n",
<<<<<<< HEAD
    "    3. celcius to farenheit\n",
    "    4. exit\n",
=======
    "    3. exit\n",
>>>>>>> master
    "    \"\"\")\n",
    "\n",
    "def convertCmTm():\n",
    "    print(\"input value of cm\")\n",
    "    x = int(input(\"value\"))\n",
    "    result = cnv.cmToM(x)\n",
    "    print(f\"the result is : {result} m\")\n",
    "    \n",
    "def convertmToCm():\n",
    "    print(\"input value of m\")\n",
    "    x = int(input(\"value\"))\n",
    "    result = cnv.mToCm(x)\n",
    "    print(f\"the result is : {result} cm\")\n",
    "    \n",
    "def convertCToF():\n",
    "    print(\"input value celcius\")\n",
    "    x = int(input(\"value\"))\n",
    "    result = cnv.cToF(x)\n",
    "    print(f\"the result is : {result} c\")\n",
    "\n",
<<<<<<< HEAD
=======
    "# Convert Decimal Menu\n",
    "\n",
    "def convertDecMenu():\n",
    "    print(\"\"\"\n",
    "    1. Decimal to Binary\n",
    "    2. Decimal to Octal\n",
    "    3. Decimal to Hexadecimal\n",
    "    4. Exit\n",
    "    \"\"\")\n",
    "\n",
    "def convertDecToBin():\n",
    "    print(\"input value decimal\")\n",
    "    x = int(input(\"value\"))\n",
    "    result = nc.decToBin(x)\n",
    "    print(f\"the result is : {result} bin\")\n",
    "\n",
    "def convertDecToOctal():\n",
    "    print(\"input value binary\")\n",
    "    x = int(input(\"value\"))\n",
    "    result = nc.decToOctal(x)\n",
    "    print(f\"the result is : {result} octal\")\n",
    "\n",
    "def convertDecToHex():\n",
    "    print(\"input value decimal\")\n",
    "    x = int(input(\"value\"))\n",
    "    result = nc.decToHex(x)\n",
    "    print(f\"the result is : {result} hex\")\n",
    "\n",
    "\n",
>>>>>>> master
    "while True:\n",
    "    mainMenu()\n",
    "    choise = int(input(\"Pick choise\"))\n",
    "\n",
    "    # if arimethic\n",
    "    if choise == 1:\n",
    "        # Aritmethic menu\n",
    "        aritMenu()\n",
    "        choise2 = int(input(\"pick function\"))\n",
    "        # Choise for the arit menu\n",
    "        if choise2 == 1:\n",
    "            aritAdd()\n",
    "        elif choise2 == 2:\n",
    "            aritPow()\n",
    "        elif choise2 == 3:\n",
    "            aritMulti()\n",
    "        elif choise2 == 4:\n",
    "            break\n",
    "        else:\n",
    "            print(\"Invalid input\")\n",
    "            \n",
    "    # if convert\n",
    "    elif choise == 2:\n",
    "        convertMenu()\n",
    "        choise2 = int(input(\"pick function\"))\n",
    "        if choise2 == 1:\n",
    "            convertCmTm()\n",
    "        elif choise2 == 2:\n",
    "            convertmToCm()\n",
    "        elif choise2 == 3:\n",
<<<<<<< HEAD
    "            print(\"WIP(Work in Progress\")\n",
=======
    "            break\n",
    "        else:\n",
    "            print(\"Invalid input\")\n",
    "\n",
    "    # if convert decimal \n",
    "    elif choise == 3:\n",
    "        convertDecMenu()\n",
    "        choise2 = int(input(\"pick function\"))\n",
    "        if choise2 == 1:\n",
    "            convertDecToBin()\n",
    "        elif choise2 == 2:\n",
    "            convertDecToOctal()\n",
    "        elif choise2 == 3:\n",
    "            convertDecToHex()\n",
>>>>>>> master
    "        elif choise2 == 4:\n",
    "            break\n",
    "        else:\n",
    "            print(\"Invalid input\")\n",
    "\n",
    "    # Break\n",
<<<<<<< HEAD
    "    elif choise == 3:\n",
=======
    "    elif choise == 4:\n",
>>>>>>> master
    "        break\n",
    "    "
   ]
  },
  {
   "cell_type": "code",
<<<<<<< HEAD
   "execution_count": 39,
=======
   "execution_count": 4,
>>>>>>> master
   "id": "6404326a-00a1-4b72-b1f2-a1d6aed5fe3d",
   "metadata": {},
   "outputs": [
    {
<<<<<<< HEAD
     "name": "stdin",
     "output_type": "stream",
     "text": [
      "asd 100\n"
     ]
    },
    {
     "name": "stdout",
     "output_type": "stream",
     "text": [
      "212.0\n"
=======
     "name": "stdout",
     "output_type": "stream",
     "text": [
      "0b1100100\n",
      "0x64\n",
      "0o144\n"
>>>>>>> master
     ]
    }
   ],
   "source": [
<<<<<<< HEAD
    "c = int(input(\"asd\"))\n",
    "\n",
    "x = (c*(9/5)) +32\n",
    "\n",
    "print(x)"
=======
    "x = 100\n",
    "\n",
    "print(bin(x))\n",
    "print(hex(x))\n",
    "print(oct(x))"
>>>>>>> master
   ]
  }
 ],
 "metadata": {
  "kernelspec": {
<<<<<<< HEAD
   "display_name": "Python 3 (ipykernel)",
=======
   "display_name": "Python 3",
>>>>>>> master
   "language": "python",
   "name": "python3"
  },
  "language_info": {
   "codemirror_mode": {
    "name": "ipython",
    "version": 3
   },
   "file_extension": ".py",
   "mimetype": "text/x-python",
   "name": "python",
   "nbconvert_exporter": "python",
   "pygments_lexer": "ipython3",
<<<<<<< HEAD
   "version": "3.12.7"
=======
   "version": "3.13.2"
>>>>>>> master
  }
 },
 "nbformat": 4,
 "nbformat_minor": 5
}
