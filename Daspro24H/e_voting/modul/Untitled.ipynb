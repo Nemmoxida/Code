{
 "cells": [
  {
   "cell_type": "code",
   "execution_count": null,
   "id": "b12d9a48-f036-4bc7-a6f6-14663edee8a5",
   "metadata": {},
   "outputs": [],
   "source": []
  }
 ],
 "metadata": {
  "kernelspec": {
   "display_name": "",
   "name": ""
  },
  "language_info": {
   "name": ""
  }
 },
 "nbformat": 4,
 "nbformat_minor": 5
}
