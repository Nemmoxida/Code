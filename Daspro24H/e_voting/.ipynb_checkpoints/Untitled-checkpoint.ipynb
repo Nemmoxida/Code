{
 "cells": [
  {
   "cell_type": "code",
   "execution_count": 4,
   "id": "a3cd875f-cf1d-431d-9d8e-fc7d8918b35b",
   "metadata": {},
   "outputs": [
    {
     "name": "stdout",
     "output_type": "stream",
     "text": [
      "Fungsi ini akan diisi sesuai kebutuhan modul.\n",
      "\n",
      "===== SISTEM E-VOTING =====\n",
      "1. Daftar Pemilih\n",
      "2. Daftar Calon Ketua\n",
      "3. Voting\n",
      "4. Tampilkan Hasil Sementara\n",
      "5. Statistik Pemilu\n",
      "6. Keluar\n"
     ]
    },
    {
     "name": "stdin",
     "output_type": "stream",
     "text": [
      "Pilih menu (1-6):  1\n"
     ]
    },
    {
     "name": "stdout",
     "output_type": "stream",
     "text": [
      "      id    nama jurusan  sudah_memilih\n",
      "0    NP0     Ayu      PM          False\n",
      "1    NP1    Dewi     DKV          False\n",
      "2    NP2    Dewi     DKV           True\n",
      "3    NP3  Kermit      TI           True\n",
      "4    NP4  Ramdan      PM          False\n",
      "..   ...     ...     ...            ...\n",
      "95  NP95    Dewi      PM          False\n",
      "96  NP96     Abi     DKV          False\n",
      "97  NP97     Ayu     DKV           True\n",
      "98  NP98   Altaf      SI           True\n",
      "99  NP99  Kermit      SI           True\n",
      "\n",
      "[100 rows x 4 columns]\n",
      "\n",
      "===== SISTEM E-VOTING =====\n",
      "1. Daftar Pemilih\n",
      "2. Daftar Calon Ketua\n",
      "3. Voting\n",
      "4. Tampilkan Hasil Sementara\n",
      "5. Statistik Pemilu\n",
      "6. Keluar\n"
     ]
    },
    {
     "name": "stdin",
     "output_type": "stream",
     "text": [
      "Pilih menu (1-6):  1\n"
     ]
    },
    {
     "name": "stdout",
     "output_type": "stream",
     "text": [
      "      id    nama jurusan  sudah_memilih\n",
      "0    NP0     Ayu      PM          False\n",
      "1    NP1    Dewi     DKV          False\n",
      "2    NP2    Dewi     DKV           True\n",
      "3    NP3  Kermit      TI           True\n",
      "4    NP4  Ramdan      PM          False\n",
      "..   ...     ...     ...            ...\n",
      "95  NP95    Dewi      PM          False\n",
      "96  NP96     Abi     DKV          False\n",
      "97  NP97     Ayu     DKV           True\n",
      "98  NP98   Altaf      SI           True\n",
      "99  NP99  Kermit      SI           True\n",
      "\n",
      "[100 rows x 4 columns]\n",
      "\n",
      "===== SISTEM E-VOTING =====\n",
      "1. Daftar Pemilih\n",
      "2. Daftar Calon Ketua\n",
      "3. Voting\n",
      "4. Tampilkan Hasil Sementara\n",
      "5. Statistik Pemilu\n",
      "6. Keluar\n"
     ]
    },
    {
     "name": "stdin",
     "output_type": "stream",
     "text": [
      "Pilih menu (1-6):  1\n"
     ]
    },
    {
     "name": "stdout",
     "output_type": "stream",
     "text": [
      "      id    nama jurusan  sudah_memilih\n",
      "0    NP0     Ayu      PM          False\n",
      "1    NP1    Dewi     DKV          False\n",
      "2    NP2    Dewi     DKV           True\n",
      "3    NP3  Kermit      TI           True\n",
      "4    NP4  Ramdan      PM          False\n",
      "..   ...     ...     ...            ...\n",
      "95  NP95    Dewi      PM          False\n",
      "96  NP96     Abi     DKV          False\n",
      "97  NP97     Ayu     DKV           True\n",
      "98  NP98   Altaf      SI           True\n",
      "99  NP99  Kermit      SI           True\n",
      "\n",
      "[100 rows x 4 columns]\n",
      "\n",
      "===== SISTEM E-VOTING =====\n",
      "1. Daftar Pemilih\n",
      "2. Daftar Calon Ketua\n",
      "3. Voting\n",
      "4. Tampilkan Hasil Sementara\n",
      "5. Statistik Pemilu\n",
      "6. Keluar\n"
     ]
    },
    {
     "name": "stdin",
     "output_type": "stream",
     "text": [
      "Pilih menu (1-6):  2\n"
     ]
    },
    {
     "name": "stdout",
     "output_type": "stream",
     "text": [
      "    id    nama       Visi  Jumlah_Suara\n",
      "0  NC0  Ramdan   Kejayaan            18\n",
      "1  NC1  Farhan  Ketamakan            18\n",
      "2  NC2  Farhan  Ketamakan            19\n",
      "\n",
      "===== SISTEM E-VOTING =====\n",
      "1. Daftar Pemilih\n",
      "2. Daftar Calon Ketua\n",
      "3. Voting\n",
      "4. Tampilkan Hasil Sementara\n",
      "5. Statistik Pemilu\n",
      "6. Keluar\n"
     ]
    },
    {
     "name": "stdin",
     "output_type": "stream",
     "text": [
      "Pilih menu (1-6):  2\n"
     ]
    },
    {
     "name": "stdout",
     "output_type": "stream",
     "text": [
      "    id    nama       Visi  Jumlah_Suara\n",
      "0  NC0  Ramdan   Kejayaan            18\n",
      "1  NC1  Farhan  Ketamakan            18\n",
      "2  NC2  Farhan  Ketamakan            19\n",
      "\n",
      "===== SISTEM E-VOTING =====\n",
      "1. Daftar Pemilih\n",
      "2. Daftar Calon Ketua\n",
      "3. Voting\n",
      "4. Tampilkan Hasil Sementara\n",
      "5. Statistik Pemilu\n",
      "6. Keluar\n"
     ]
    },
    {
     "name": "stdin",
     "output_type": "stream",
     "text": [
      "Pilih menu (1-6):  2\n"
     ]
    },
    {
     "name": "stdout",
     "output_type": "stream",
     "text": [
      "    id    nama       Visi  Jumlah_Suara\n",
      "0  NC0  Ramdan   Kejayaan            18\n",
      "1  NC1  Farhan  Ketamakan            18\n",
      "2  NC2  Farhan  Ketamakan            19\n",
      "\n",
      "===== SISTEM E-VOTING =====\n",
      "1. Daftar Pemilih\n",
      "2. Daftar Calon Ketua\n",
      "3. Voting\n",
      "4. Tampilkan Hasil Sementara\n",
      "5. Statistik Pemilu\n",
      "6. Keluar\n"
     ]
    },
    {
     "name": "stdin",
     "output_type": "stream",
     "text": [
      "Pilih menu (1-6):  3\n"
     ]
    },
    {
     "name": "stdout",
     "output_type": "stream",
     "text": [
      "Silakan melakukan voting.\n"
     ]
    },
    {
     "name": "stdin",
     "output_type": "stream",
     "text": [
      "Masukkan ID pemilih:  NP0\n",
      "Masukkan ID calon:  NC3\n"
     ]
    },
    {
     "name": "stdout",
     "output_type": "stream",
     "text": [
      "ID calon tidak ditemukan\n"
     ]
    },
    {
     "name": "stdin",
     "output_type": "stream",
     "text": [
      "Masukkan ID pemilih:  NC2\n"
     ]
    },
    {
     "name": "stdout",
     "output_type": "stream",
     "text": [
      "ID pemilih tidak ditemukan\n"
     ]
    },
    {
     "name": "stdin",
     "output_type": "stream",
     "text": [
      "Masukkan ID pemilih:  NP0\n",
      "Masukkan ID calon:  NC2\n"
     ]
    },
    {
     "name": "stdout",
     "output_type": "stream",
     "text": [
      "Voting berhasil!\n",
      "\n",
      "===== SISTEM E-VOTING =====\n",
      "1. Daftar Pemilih\n",
      "2. Daftar Calon Ketua\n",
      "3. Voting\n",
      "4. Tampilkan Hasil Sementara\n",
      "5. Statistik Pemilu\n",
      "6. Keluar\n"
     ]
    },
    {
     "name": "stdin",
     "output_type": "stream",
     "text": [
      "Pilih menu (1-6):  2\n"
     ]
    },
    {
     "name": "stdout",
     "output_type": "stream",
     "text": [
      "    id    nama       Visi  Jumlah_Suara\n",
      "0  NC0  Ramdan   Kejayaan            18\n",
      "1  NC1  Farhan  Ketamakan            18\n",
      "2  NC2  Farhan  Ketamakan            20\n",
      "\n",
      "===== SISTEM E-VOTING =====\n",
      "1. Daftar Pemilih\n",
      "2. Daftar Calon Ketua\n",
      "3. Voting\n",
      "4. Tampilkan Hasil Sementara\n",
      "5. Statistik Pemilu\n",
      "6. Keluar\n"
     ]
    },
    {
     "ename": "KeyboardInterrupt",
     "evalue": "Interrupted by user",
     "output_type": "error",
     "traceback": [
      "\u001b[1;31m---------------------------------------------------------------------------\u001b[0m",
      "\u001b[1;31mKeyboardInterrupt\u001b[0m                         Traceback (most recent call last)",
      "Cell \u001b[1;32mIn[4], line 44\u001b[0m\n\u001b[0;32m     41\u001b[0m             \u001b[38;5;28mprint\u001b[39m(\u001b[38;5;124m\"\u001b[39m\u001b[38;5;124mPilihan tidak valid.\u001b[39m\u001b[38;5;124m\"\u001b[39m)\n\u001b[0;32m     43\u001b[0m \u001b[38;5;28;01mif\u001b[39;00m \u001b[38;5;18m__name__\u001b[39m \u001b[38;5;241m==\u001b[39m \u001b[38;5;124m\"\u001b[39m\u001b[38;5;124m__main__\u001b[39m\u001b[38;5;124m\"\u001b[39m:\n\u001b[1;32m---> 44\u001b[0m     main()\n",
      "Cell \u001b[1;32mIn[4], line 25\u001b[0m, in \u001b[0;36mmain\u001b[1;34m()\u001b[0m\n\u001b[0;32m     22\u001b[0m \u001b[38;5;28mprint\u001b[39m(\u001b[38;5;124m\"\u001b[39m\u001b[38;5;124m5. Statistik Pemilu\u001b[39m\u001b[38;5;124m\"\u001b[39m)\n\u001b[0;32m     23\u001b[0m \u001b[38;5;28mprint\u001b[39m(\u001b[38;5;124m\"\u001b[39m\u001b[38;5;124m6. Keluar\u001b[39m\u001b[38;5;124m\"\u001b[39m)\n\u001b[1;32m---> 25\u001b[0m pilihan \u001b[38;5;241m=\u001b[39m \u001b[38;5;28minput\u001b[39m(\u001b[38;5;124m\"\u001b[39m\u001b[38;5;124mPilih menu (1-6): \u001b[39m\u001b[38;5;124m\"\u001b[39m)\n\u001b[0;32m     27\u001b[0m \u001b[38;5;28;01mif\u001b[39;00m pilihan \u001b[38;5;241m==\u001b[39m \u001b[38;5;124m\"\u001b[39m\u001b[38;5;124m1\u001b[39m\u001b[38;5;124m\"\u001b[39m:\n\u001b[0;32m     28\u001b[0m     \u001b[38;5;28mprint\u001b[39m(dataPemilih)\n",
      "File \u001b[1;32m~\\anaconda3\\Lib\\site-packages\\ipykernel\\kernelbase.py:1262\u001b[0m, in \u001b[0;36mKernel.raw_input\u001b[1;34m(self, prompt)\u001b[0m\n\u001b[0;32m   1260\u001b[0m     msg \u001b[38;5;241m=\u001b[39m \u001b[38;5;124m\"\u001b[39m\u001b[38;5;124mraw_input was called, but this frontend does not support input requests.\u001b[39m\u001b[38;5;124m\"\u001b[39m\n\u001b[0;32m   1261\u001b[0m     \u001b[38;5;28;01mraise\u001b[39;00m StdinNotImplementedError(msg)\n\u001b[1;32m-> 1262\u001b[0m \u001b[38;5;28;01mreturn\u001b[39;00m \u001b[38;5;28mself\u001b[39m\u001b[38;5;241m.\u001b[39m_input_request(\n\u001b[0;32m   1263\u001b[0m     \u001b[38;5;28mstr\u001b[39m(prompt),\n\u001b[0;32m   1264\u001b[0m     \u001b[38;5;28mself\u001b[39m\u001b[38;5;241m.\u001b[39m_parent_ident[\u001b[38;5;124m\"\u001b[39m\u001b[38;5;124mshell\u001b[39m\u001b[38;5;124m\"\u001b[39m],\n\u001b[0;32m   1265\u001b[0m     \u001b[38;5;28mself\u001b[39m\u001b[38;5;241m.\u001b[39mget_parent(\u001b[38;5;124m\"\u001b[39m\u001b[38;5;124mshell\u001b[39m\u001b[38;5;124m\"\u001b[39m),\n\u001b[0;32m   1266\u001b[0m     password\u001b[38;5;241m=\u001b[39m\u001b[38;5;28;01mFalse\u001b[39;00m,\n\u001b[0;32m   1267\u001b[0m )\n",
      "File \u001b[1;32m~\\anaconda3\\Lib\\site-packages\\ipykernel\\kernelbase.py:1305\u001b[0m, in \u001b[0;36mKernel._input_request\u001b[1;34m(self, prompt, ident, parent, password)\u001b[0m\n\u001b[0;32m   1302\u001b[0m \u001b[38;5;28;01mexcept\u001b[39;00m \u001b[38;5;167;01mKeyboardInterrupt\u001b[39;00m:\n\u001b[0;32m   1303\u001b[0m     \u001b[38;5;66;03m# re-raise KeyboardInterrupt, to truncate traceback\u001b[39;00m\n\u001b[0;32m   1304\u001b[0m     msg \u001b[38;5;241m=\u001b[39m \u001b[38;5;124m\"\u001b[39m\u001b[38;5;124mInterrupted by user\u001b[39m\u001b[38;5;124m\"\u001b[39m\n\u001b[1;32m-> 1305\u001b[0m     \u001b[38;5;28;01mraise\u001b[39;00m \u001b[38;5;167;01mKeyboardInterrupt\u001b[39;00m(msg) \u001b[38;5;28;01mfrom\u001b[39;00m \u001b[38;5;28;01mNone\u001b[39;00m\n\u001b[0;32m   1306\u001b[0m \u001b[38;5;28;01mexcept\u001b[39;00m \u001b[38;5;167;01mException\u001b[39;00m:\n\u001b[0;32m   1307\u001b[0m     \u001b[38;5;28mself\u001b[39m\u001b[38;5;241m.\u001b[39mlog\u001b[38;5;241m.\u001b[39mwarning(\u001b[38;5;124m\"\u001b[39m\u001b[38;5;124mInvalid Message:\u001b[39m\u001b[38;5;124m\"\u001b[39m, exc_info\u001b[38;5;241m=\u001b[39m\u001b[38;5;28;01mTrue\u001b[39;00m)\n",
      "\u001b[1;31mKeyboardInterrupt\u001b[0m: Interrupted by user"
     ]
    }
   ],
   "source": [
    "import numpy as np\n",
    "import pandas as pd\n",
    "\n",
    "from modul import pemilih, calon, voting, statistik\n",
    "\n",
    "def main():\n",
    "    rawPemilih = pemilih.tambah_pemilih()\n",
    "    dataPemilih = pd.DataFrame(rawPemilih)\n",
    "    terpilih = dataPemilih['sudah_memilih'].sum()\n",
    "\n",
    "    rawDataCalon = calon.tambah_calon(terpilih)\n",
    "    dataCalon = pd.DataFrame(rawDataCalon)\n",
    "    while True:\n",
    "        \n",
    "        print(\"\\n===== SISTEM E-VOTING =====\")\n",
    "        print(\"1. Daftar Pemilih\")\n",
    "        print(\"2. Daftar Calon Ketua\")\n",
    "        print(\"3. Voting\")\n",
    "        print(\"4. Tampilkan Hasil Sementara\")\n",
    "        print(\"5. Statistik Pemilu\")\n",
    "        print(\"6. Keluar\")\n",
    "\n",
    "        pilihan = input(\"Pilih menu (1-6): \")\n",
    "\n",
    "        if pilihan == \"1\":\n",
    "            print(dataPemilih)\n",
    "        elif pilihan == \"2\":\n",
    "            print(dataCalon)\n",
    "        elif pilihan == \"3\":\n",
    "            dataPemilih, dataCalon = voting.lakukan_voting(dataPemilih, dataCalon)\n",
    "        elif pilihan == \"4\":\n",
    "            statistik.hasil(dataCalon)\n",
    "        elif pilihan == \"5\":\n",
    "            statistik.tampilkan_statistik(dataCalon)\n",
    "        elif pilihan == \"6\":\n",
    "            print(\"Terima kasih!\")\n",
    "            break\n",
    "        else:\n",
    "            print(\"Pilihan tidak valid.\")\n",
    "\n",
    "if __name__ == \"__main__\":\n",
    "    main()\n"
   ]
  }
 ],
 "metadata": {
  "kernelspec": {
   "display_name": "Python 3 (ipykernel)",
   "language": "python",
   "name": "python3"
  },
  "language_info": {
   "codemirror_mode": {
    "name": "ipython",
    "version": 3
   },
   "file_extension": ".py",
   "mimetype": "text/x-python",
   "name": "python",
   "nbconvert_exporter": "python",
   "pygments_lexer": "ipython3",
   "version": "3.12.7"
  }
 },
 "nbformat": 4,
 "nbformat_minor": 5
}
