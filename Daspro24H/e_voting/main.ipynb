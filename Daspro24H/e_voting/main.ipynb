{
 "cells": [
  {
   "cell_type": "code",
   "execution_count": null,
   "id": "a3cd875f-cf1d-431d-9d8e-fc7d8918b35b",
   "metadata": {},
   "outputs": [
    {
     "ename": "",
     "evalue": "",
     "output_type": "error",
     "traceback": [
      "\u001b[1;31mRunning cells with '.venv (Python 3.13.2)' requires the ipykernel package.\n",
      "\u001b[1;31mInstall 'ipykernel' into the Python environment. \n",
      "\u001b[1;31mCommand: 'c:/Users/Ilham/Desktop/Code-main/.venv/Scripts/python.exe -m pip install ipykernel -U --force-reinstall'"
     ]
    }
   ],
   "source": [
    "import numpy as np\n",
    "import pandas as pd\n",
    "\n",
    "from modul import pemilih, calon, voting, statistik, data\n",
    "\n",
    "def main():\n",
    "\n",
    "    # Inisialisasi data \n",
    "    dataPemilih = data._generate_pemilih()\n",
    "    # Inisialisasi data calon \n",
    "    dataCalon = data._generate_calon()\n",
    "    while True:\n",
    "        \n",
    "        print(\"\\n===== SISTEM E-VOTING =====\")\n",
    "        print(\"1. Daftar Pemilih\")\n",
    "        print(\"2. Daftar Calon Ketua\")\n",
    "        print(\"3. Voting\")\n",
    "        print(\"4. Tampilkan Hasil Sementara\")\n",
    "        print(\"5. Statistik Pemilu\")\n",
    "        print(\"6. Keluar\")\n",
    "\n",
    "        pilihan = input(\"Pilih menu (1-6): \")\n",
    "\n",
    "        if pilihan == \"1\":\n",
    "            print(dataPemilih)\n",
    "        elif pilihan == \"2\":\n",
    "            print(dataCalon)\n",
    "        elif pilihan == \"3\":\n",
    "            dataPemilih, dataCalon = voting.lakukan_voting(dataPemilih, dataCalon)\n",
    "        elif pilihan == \"4\":\n",
    "            statistik.hasil(dataCalon)\n",
    "        elif pilihan == \"5\":\n",
    "            statistik.tampilkan_statistik(dataCalon)\n",
    "        elif pilihan == \"6\":\n",
    "            print(\"Terima kasih!\")\n",
    "            break\n",
    "        else:\n",
    "            print(\"Pilihan tidak valid.\")\n",
    "\n",
    "if __name__ == \"__main__\":\n",
    "    main()\n"
   ]
  }
 ],
 "metadata": {
  "kernelspec": {
   "display_name": ".venv",
   "language": "python",
   "name": "python3"
  },
  "language_info": {
   "codemirror_mode": {
    "name": "ipython",
    "version": 3
   },
   "file_extension": ".py",
   "mimetype": "text/x-python",
   "name": "python",
   "nbconvert_exporter": "python",
   "pygments_lexer": "ipython3",
   "version": "3.13.2"
  }
 },
 "nbformat": 4,
 "nbformat_minor": 5
}
