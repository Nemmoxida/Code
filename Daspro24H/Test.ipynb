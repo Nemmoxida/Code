{
 "cells": [
  {
   "cell_type": "markdown",
   "id": "933396c8-0c90-4393-a5e7-f7da1b841804",
   "metadata": {},
   "source": [
    "<center><img src=\"https://encrypted-tbn0.gstatic.com/images?q=tbn:ANd9GcSk3S6F1raN9AuPrPxZ4iDLm-iRTwUGZD1EWA&s\" width=\"300\"></center>\n",
    "<br>\n",
    "\n",
    "<h1>Cell terbagi menjadi</h1>\n",
    "<ol>\n",
    "    <li>Markdown</li>\n",
    "    <li>Code</li>\n",
    "</ol>"
   ]
  },
  {
   "cell_type": "markdown",
   "id": "b59f6107-0b56-4d47-bcb7-0cd783e7bfc4",
   "metadata": {},
   "source": [
    "<h1>Cara menambahkan cell</h1>\n",
    "<br>\n",
    "<ul>\n",
    "    <li>A = Menambahkan cell ke atas cell aktif</li>\n",
    "    <li>B = Menambahkan cell ke Bawah cell aktif</li>\n",
    "</ul>"
   ]
  },
  {
   "cell_type": "markdown",
   "id": "09a3bf1d-ad9e-43bf-837a-2dbbdbca9ec7",
   "metadata": {},
   "source": [
    "<table>\n",
    "    <tr>\n",
    "        <td>Perintah</td>\n",
    "        <td>Keterangan</td>\n",
    "    </tr>\n",
    "    <tr>\n",
    "        <td>Ctrl + Enter</td>\n",
    "        <td>Running Program Yang sedang fokus di cell aktif</td>\n",
    "    </tr>\n",
    "    <tr>\n",
    "        <td>Shift + Ctrl + Enter</td>\n",
    "        <td>Running Program di cell selanjutnya</td>\n",
    "    </tr>\n",
    "</table>"
   ]
  },
  {
   "cell_type": "code",
   "execution_count": 5,
   "id": "7ecbaf2d-f5de-47b6-9235-0396302bcc10",
   "metadata": {},
   "outputs": [
    {
     "name": "stdin",
     "output_type": "stream",
     "text": [
      "Tebak Angka 1 - 10 5\n"
     ]
    },
    {
     "name": "stdout",
     "output_type": "stream",
     "text": [
      "Tebakan Anda terlalu besar\n"
     ]
    },
    {
     "name": "stdin",
     "output_type": "stream",
     "text": [
      "Tebak Angka 1 - 10 2\n"
     ]
    },
    {
     "name": "stdout",
     "output_type": "stream",
     "text": [
      "Tebakan Anda terlalu besar\n"
     ]
    },
    {
     "name": "stdin",
     "output_type": "stream",
     "text": [
      "Tebak Angka 1 - 10 1\n"
     ]
    },
    {
     "name": "stdout",
     "output_type": "stream",
     "text": [
      "tebakan anda benar\n"
     ]
    }
   ],
   "source": [
    "import random\n",
    "\n",
    "number = random.randint(1, 10)\n",
    "\n",
    "#Jumlah kesempatan\n",
    "chance = 3\n",
    "\n",
    "while(True):\n",
    "    if(chance == 0):\n",
    "        print(\"Kesempatan anda habis\")\n",
    "        break\n",
    "    guess = int(input(\"Tebak Angka 1 - 10\"))\n",
    "    if(guess != number):\n",
    "        if(guess < number):\n",
    "            print(\"Tebakan Anda terlalu kecil\")\n",
    "            chance -= 1\n",
    "        elif(guess > number):\n",
    "            print(\"Tebakan Anda terlalu besar\")\n",
    "            chance -= 1\n",
    "    else:\n",
    "        print(\"tebakan anda benar\")\n",
    "        break"
   ]
  },
  {
   "cell_type": "code",
   "execution_count": 88,
   "id": "697d03a7-7e63-40d8-b2cf-0473b86c35a4",
   "metadata": {},
   "outputs": [
    {
     "name": "stdin",
     "output_type": "stream",
     "text": [
      "Cek Kata Palindrome kasur rusak\n"
     ]
    },
    {
     "name": "stdout",
     "output_type": "stream",
     "text": [
      "Kata adalah kata Palindrome\n"
     ]
    }
   ],
   "source": [
    "Char = str(input(\"Cek Kata Palindrome\"))\n",
    "isPalindrome = False\n",
    "\n",
    "for i in range(0,len(Char)):\n",
    "    if (Char[i] != Char[len(Char) - i - 1 ]):\n",
    "        print(\"Kata bukan Palindrome\")\n",
    "        break\n",
    "    else:\n",
    "        isPalindrome = True\n",
    "\n",
    "if(isPalindrome == True):\n",
    "    print(\"Kata adalah kata Palindrome\")\n",
    "\n",
    "\n",
    "    "
   ]
  }
 ],
 "metadata": {
  "kernelspec": {
   "display_name": "Python 3 (ipykernel)",
   "language": "python",
   "name": "python3"
  },
  "language_info": {
   "codemirror_mode": {
    "name": "ipython",
    "version": 3
   },
   "file_extension": ".py",
   "mimetype": "text/x-python",
   "name": "python",
   "nbconvert_exporter": "python",
   "pygments_lexer": "ipython3",
   "version": "3.12.7"
  }
 },
 "nbformat": 4,
 "nbformat_minor": 5
}
