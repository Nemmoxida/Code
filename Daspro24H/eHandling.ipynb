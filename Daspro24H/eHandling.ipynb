{
 "cells": [
  {
   "cell_type": "code",
   "execution_count": null,
   "id": "28f3ac6b-2e24-4b37-9942-f406cfb6901b",
   "metadata": {},
   "outputs": [],
   "source": [
    "# Error handling, why no global error py?\n",
    "try:\n",
    "    number1 = int(input(\"Nuber Input 1\"))\n",
    "    number2 = int(input(\"Nuber Input 2\"))\n",
    "\n",
    "    print(number1/number2)\n",
    "except ZeroDivisionError:\n",
    "    print(\"error no number can be devided by zero you as hol\")\n",
    "\n",
    "except ValueError:\n",
    "    print(\"u stupit? number mf not a string\")\n",
    "\n",
    "else:\n",
    "    print(\"congrats, no error you fker\")\n",
    "\n",
    "finally:\n",
    "    print(\"just here idk for what\")\n",
    "\n"
   ]
  },
  {
   "cell_type": "code",
   "execution_count": null,
   "id": "c3817315-558b-4788-9a0d-65020f022066",
   "metadata": {},
   "outputs": [],
   "source": [
    "# there's kinda a global e but still you need to type every single e, fk\n",
    "\n",
    "try:\n",
    "    number1 = int(input(\"Nuber Input 1\"))\n",
    "    number2 = int(input(\"Nuber Input 2\"))\n",
    "\n",
    "    print(number1/number2)\n",
    "except (ZeroDivisionError, ValueError) as e:\n",
    "    print(e)\n",
    "\n",
    "else:\n",
    "    print(\"congrats, no error you fker\")\n",
    "\n",
    "finally:\n",
    "    print(\"just here idk for what\")"
   ]
  },
  {
   "cell_type": "code",
   "execution_count": null,
   "id": "16e65b16-fb44-4399-8b4d-ba046e10e97c",
   "metadata": {},
   "outputs": [],
   "source": [
    "# index err\n",
    "\n",
    "a = [1,2,3,4]\n",
    "\n",
    "try:\n",
    "    position = int(input(\"take witch position you want to take\"))\n",
    "    result = a[position]\n",
    "\n",
    "except IndexError as err:\n",
    "    print(err)\n",
    "    print(\"out of range you stupit try 0-3 next time\")\n",
    "\n",
    "else:\n",
    "    print(result)"
   ]
  },
  {
   "cell_type": "code",
   "execution_count": null,
   "id": "c0d28ced-b79f-425d-b6f3-d98bf358ea9a",
   "metadata": {},
   "outputs": [],
   "source": [
    "character = {\n",
    "    \"Name\" : \"Grace Howard\",\n",
    "    \"Faction\" : \"Belobog Industry\",\n",
    "    \"Age\" : None,\n",
    "    \"Attribute\" : \"Lightning\",\n",
    "}\n",
    "\n",
    "print(character[\"Name\"])\n",
    "# you know the drill at this point. btw the error is called KeyError"
   ]
  },
  {
   "cell_type": "code",
   "execution_count": null,
   "id": "9e6990f5-fdb7-4f8c-8228-cb0dbb184927",
   "metadata": {},
   "outputs": [],
   "source": [
    "class NegativeError(Exception):\n",
    "    pass\n",
    "\n",
    "def number(n):\n",
    "    if n < 0:\n",
    "        raise NegativeError(\"error\")\n",
    "\n",
    "try:\n",
    "    umber = int(input(\"value\"))\n",
    "    number(umber)\n",
    "except NegativeError as e:\n",
    "    print(e)"
   ]
  },
  {
   "cell_type": "code",
   "execution_count": null,
   "id": "cb7b88f9-d0f2-42f2-9f35-b7d3f055000a",
   "metadata": {},
   "outputs": [],
   "source": [
    "# File Handling (just reading)\n",
    "\n",
    "data = open(\"Data.csv\", \"r\")\n",
    "print(data.read())\n",
    "data.close()"
   ]
  },
  {
   "cell_type": "code",
   "execution_count": 43,
   "id": "f0af20c1-064c-477a-81b4-ad8ea368a1fa",
   "metadata": {},
   "outputs": [
    {
     "name": "stdout",
     "output_type": "stream",
     "text": [
      "[Errno 2] No such file or directory: 'Data.svc'\n"
     ]
    }
   ],
   "source": [
    "# Combine it with err except\n",
    "\n",
    "try:\n",
    "    with open(\"Data.svc\", \"r\") as f:\n",
    "        print(f)\n",
    "except FileNotFoundError as e:\n",
    "    print(e)\n",
    "\n",
    "else:\n",
    "    print(\"Thas all of the data nig\")"
   ]
  },
  {
   "cell_type": "code",
   "execution_count": 54,
   "id": "011d5fa8-79e5-4435-a52b-2d54d9c9977d",
   "metadata": {},
   "outputs": [
    {
     "name": "stdout",
     "output_type": "stream",
     "text": [
      "success writing data\n"
     ]
    }
   ],
   "source": [
    "# Write a file\n",
    "\n",
    "try:\n",
    "    with open(\"test.txt\", \"a\") as f:\n",
    "        f.write(\"just a test\")\n",
    "except IOError as e:\n",
    "    print(e)\n",
    "\n",
    "else:\n",
    "    print(\"success writing data\")"
   ]
  }
 ],
 "metadata": {
  "kernelspec": {
   "display_name": "Python 3 (ipykernel)",
   "language": "python",
   "name": "python3"
  },
  "language_info": {
   "codemirror_mode": {
    "name": "ipython",
    "version": 3
   },
   "file_extension": ".py",
   "mimetype": "text/x-python",
   "name": "python",
   "nbconvert_exporter": "python",
   "pygments_lexer": "ipython3",
   "version": "3.12.7"
  }
 },
 "nbformat": 4,
 "nbformat_minor": 5
}
