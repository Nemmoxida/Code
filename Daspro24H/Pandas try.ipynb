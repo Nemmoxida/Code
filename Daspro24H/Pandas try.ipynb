{
 "cells": [
  {
   "cell_type": "code",
   "execution_count": 71,
   "metadata": {
    "executionInfo": {
     "elapsed": 576,
     "status": "ok",
     "timestamp": 1747654528820,
     "user": {
      "displayName": "Nemmox IDA",
      "userId": "05801018728943786863"
     },
     "user_tz": -420
    },
    "id": "v9SkW5kjZCQa"
   },
   "outputs": [],
   "source": [
    "import numpy as np\n",
    "import pandas as pd\n",
    "import math"
   ]
  },
  {
   "cell_type": "code",
   "execution_count": 69,
   "metadata": {
    "colab": {
     "base_uri": "https://localhost:8080/"
    },
    "executionInfo": {
     "elapsed": 53,
     "status": "ok",
     "timestamp": 1747654530700,
     "user": {
      "displayName": "Nemmox IDA",
      "userId": "05801018728943786863"
     },
     "user_tz": -420
    },
    "id": "lzYts7mrZN79",
    "outputId": "8bd06161-ab49-494d-daa9-4a5b22576eaf"
   },
   "outputs": [
    {
     "name": "stdout",
     "output_type": "stream",
     "text": [
      "100\n"
     ]
    }
   ],
   "source": [
    "np.random.seed(42)\n",
    "\n",
    "# Jumlah data\n",
    "n = 100\n",
    "\n",
    "data = {\n",
    "    \"age\": np.random.randint(18, 65, size=n),\n",
    "    \"salary\": np.random.normal(50000, 15000, size=n).astype(int),\n",
    "    \"education_level\": np.random.choice([\"SMA\", \"D3\", \"S1\", \"S2\", \"S3\"], size=n),\n",
    "    \"years_experience\": np.random.randint(0, 40, size=n),\n",
    "    \"gender\": np.random.choice([\"Pria\", \"Wanita\"], size=n),\n",
    "    \"married\": np.random.choice([\"Ya\", \"Tidak\"], size=n),\n",
    "    \"owns_car\": np.random.choice([\"Ya\", \"Tidak\"], size=n),\n",
    "    \"credit_score\": np.random.randint(300, 850, size=n),\n",
    "    \"spending_score\": np.random.randint(1, 100, size=n),\n",
    "    \"purchased\": np.random.choice([0, 1], size=n),  # 0: tidak beli, 1: beli\n",
    "}\n",
    "\n",
    "# Buat DataFrame\n",
    "df = pd.DataFrame(data)\n",
    "\n",
    "# Analisis statistik sederhana\n",
    "# stats = df.describe(include='all')\n",
    "\n",
    "print(df.married.size)\n",
    "\n",
    "# df.head(), stats\n"
   ]
  },
  {
   "cell_type": "code",
   "execution_count": 41,
   "metadata": {},
   "outputs": [
    {
     "name": "stdout",
     "output_type": "stream",
     "text": [
      "PM001\n",
      "<class 'list'>\n"
     ]
    }
   ],
   "source": [
    "n = 55\n",
    "x = ({\"age\" : \"50\", \"name\" : \"kermit\"}, {\"age\" :  n})\n",
    "y = [\n",
    "    {\"id\": \"PM001\", \"nama\": \"Ayu\", \"jurusan\": \"SI\", \"sudah_memilih\": False, \"age\" : n},\n",
    "     {\"id\": \"PM001\", \"nama\": \"Ayu\", \"jurusan\": \"SI\", \"sudah_memilih\": False, \"age\" : n + 10},\n",
    "\n",
    "]\n",
    "\n",
    "y.append(x)\n",
    "\n",
    "print(y[0][\"id\"])\n",
    "print(type(y))\n",
    "\n",
    "# print(type(x))\n",
    "# print(type(y))\n",
    "# # print(y[1])\n",
    "\n",
    "# z = y[1]\n",
    "\n",
    "# print(z[\"id\"])"
   ]
  },
  {
   "cell_type": "code",
   "execution_count": 37,
   "metadata": {},
   "outputs": [
    {
     "ename": "UFuncTypeError",
     "evalue": "ufunc 'add' did not contain a loop with signature matching types (dtype('<U4'), dtype('<U4')) -> None",
     "output_type": "error",
     "traceback": [
      "\u001b[1;31m---------------------------------------------------------------------------\u001b[0m",
      "\u001b[1;31mUFuncTypeError\u001b[0m                            Traceback (most recent call last)",
      "Cell \u001b[1;32mIn[37], line 4\u001b[0m\n\u001b[0;32m      1\u001b[0m x \u001b[38;5;241m=\u001b[39m np\u001b[38;5;241m.\u001b[39mrandom\u001b[38;5;241m.\u001b[39mchoice([\u001b[38;5;124m\"\u001b[39m\u001b[38;5;124mayu\u001b[39m\u001b[38;5;124m\"\u001b[39m, \u001b[38;5;124m\"\u001b[39m\u001b[38;5;124mdewi\u001b[39m\u001b[38;5;124m\"\u001b[39m], size \u001b[38;5;241m=\u001b[39m \u001b[38;5;241m10\u001b[39m)\n\u001b[0;32m      2\u001b[0m y \u001b[38;5;241m=\u001b[39m np\u001b[38;5;241m.\u001b[39mrandom\u001b[38;5;241m.\u001b[39mchoice([\u001b[38;5;124m\"\u001b[39m\u001b[38;5;124mbayu\u001b[39m\u001b[38;5;124m\"\u001b[39m, \u001b[38;5;124m\"\u001b[39m\u001b[38;5;124mjaja\u001b[39m\u001b[38;5;124m\"\u001b[39m], size \u001b[38;5;241m=\u001b[39m \u001b[38;5;241m10\u001b[39m)\n\u001b[1;32m----> 4\u001b[0m r \u001b[38;5;241m=\u001b[39m x \u001b[38;5;241m+\u001b[39m y\n\u001b[0;32m      6\u001b[0m \u001b[38;5;28mprint\u001b[39m(r)\n",
      "\u001b[1;31mUFuncTypeError\u001b[0m: ufunc 'add' did not contain a loop with signature matching types (dtype('<U4'), dtype('<U4')) -> None"
     ]
    }
   ],
   "source": [
    "\n",
    "\n",
    "x = np.random.choice([\"ayu\", \"dewi\"], size = 10)\n",
    "y = np.random.choice([\"bayu\", \"jaja\"], size = 10)\n",
    "\n",
    "r = x + y\n",
    "\n",
    "print(r)"
   ]
  },
  {
   "cell_type": "code",
   "execution_count": 56,
   "metadata": {},
   "outputs": [
    {
     "name": "stdout",
     "output_type": "stream",
     "text": [
      "[{'id': 'NP0', 'nama': 'Abi', 'jurusan': 'HK', 'sudah_memilih': False}, {'id': 'NP1', 'nama': 'Abi', 'jurusan': 'DKV', 'sudah_memilih': True}]\n"
     ]
    }
   ],
   "source": [
    "import numpy as np\n",
    "import pandas as pd\n",
    "\n",
    "n = 2\n",
    "number = 0\n",
    "id = \"NP\" + str(number)\n",
    "dataPemilih = []\n",
    "\n",
    "for i in range(n):\n",
    "\n",
    "    data = {\n",
    "    \"id\" : id,\n",
    "    \"nama\" : np.random.choice([\"Ayu\", \"Dewi\", \"Ramdan\", \"Abi\", \"Altaf\", \"Farhan\", \"Kermit\"]),\n",
    "    \"jurusan\" : np.random.choice([\"TI\", \"SI\", \"DKV\", \"PM\", \"HK\"]),\n",
    "    \"sudah_memilih\" : np.random.choice([True, False])\n",
    "    }\n",
    "    number += 1\n",
    "    id = \"NP\" + str(number)\n",
    "    dataPemilih.append(data)\n",
    "\n",
    "print(dataPemilih)"
   ]
  },
  {
   "cell_type": "code",
   "execution_count": 75,
   "metadata": {},
   "outputs": [
    {
     "name": "stdout",
     "output_type": "stream",
     "text": [
      "Fungsi ini akan diisi sesuai kebutuhan modul.\n",
      "[{'id': 'NP2', 'nama': 'Altaf', 'Visi': 'PM', 'Jumlah_Suara': 20}, {'id': 'NP2', 'nama': 'Abi', 'Visi': 'DKV', 'Jumlah_Suara': 20}, {'id': 'NP2', 'nama': 'Farhan', 'Visi': 'SI', 'Jumlah_Suara': 21}]\n"
     ]
    }
   ],
   "source": [
    "n = 3\n",
    "def tambah_calon(terpilih):\n",
    "    print(\"Fungsi ini akan diisi sesuai kebutuhan modul.\")\n",
    "    dataCalon = []\n",
    "    suara = math.floor(terpilih/3)\n",
    "    sisa = terpilih % 3\n",
    "    for i in range(3):\n",
    "        if i == 2:\n",
    "            suara +=1\n",
    "        data = {\n",
    "        \"id\" : id,\n",
    "        \"nama\" : np.random.choice([\"Ayu\", \"Dewi\", \"Ramdan\", \"Abi\", \"Altaf\", \"Farhan\", \"Kermit\"]),\n",
    "        \"Visi\" : np.random.choice([\"TI\", \"SI\", \"DKV\", \"PM\", \"HK\"]),\n",
    "        \"Jumlah_Suara\" : suara\n",
    "        }\n",
    "        dataCalon.append(data)\n",
    "    print(dataCalon)\n",
    "\n",
    "tambah_calon(61)"
   ]
  }
 ],
 "metadata": {
  "colab": {
   "authorship_tag": "ABX9TyP+wo5EzcmobhO4/364XzGB",
   "provenance": []
  },
  "kernelspec": {
   "display_name": "Python 3 (ipykernel)",
   "language": "python",
   "name": "python3"
  },
  "language_info": {
   "codemirror_mode": {
    "name": "ipython",
    "version": 3
   },
   "file_extension": ".py",
   "mimetype": "text/x-python",
   "name": "python",
   "nbconvert_exporter": "python",
   "pygments_lexer": "ipython3",
   "version": "3.12.7"
  }
 },
 "nbformat": 4,
 "nbformat_minor": 4
}
