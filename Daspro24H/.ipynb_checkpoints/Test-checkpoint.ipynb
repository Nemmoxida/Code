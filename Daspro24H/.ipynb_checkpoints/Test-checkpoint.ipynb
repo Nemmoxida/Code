{
 "cells": [
  {
   "cell_type": "markdown",
   "id": "933396c8-0c90-4393-a5e7-f7da1b841804",
   "metadata": {},
   "source": [
    "<center><img src=\"https://encrypted-tbn0.gstatic.com/images?q=tbn:ANd9GcSk3S6F1raN9AuPrPxZ4iDLm-iRTwUGZD1EWA&s\" width=\"300\"></center>\n",
    "<br>\n",
    "\n",
    "<h1>Cell terbagi menjadi</h1>\n",
    "<ol>\n",
    "    <li>Markdown</li>\n",
    "    <li>Code</li>\n",
    "</ol>"
   ]
  },
  {
   "cell_type": "markdown",
   "id": "b59f6107-0b56-4d47-bcb7-0cd783e7bfc4",
   "metadata": {},
   "source": [
    "<h1>Cara menambahkan cell</h1>\n",
    "<br>\n",
    "<ul>\n",
    "    <li>A = Menambahkan cell ke atas cell aktif</li>\n",
    "    <li>B = Menambahkan cell ke Bawah cell aktif</li>\n",
    "</ul>"
   ]
  },
  {
   "cell_type": "markdown",
   "id": "09a3bf1d-ad9e-43bf-837a-2dbbdbca9ec7",
   "metadata": {},
   "source": [
    "<table>\n",
    "    <tr>\n",
    "        <td>Perintah</td>\n",
    "        <td>Keterangan</td>\n",
    "    </tr>\n",
    "    <tr>\n",
    "        <td>Ctrl + Enter</td>\n",
    "        <td>Running Program Yang sedang fokus di cell aktif</td>\n",
    "    </tr>\n",
    "    <tr>\n",
    "        <td>Shift + Ctrl + Enter</td>\n",
    "        <td>Running Program di cell selanjutnya</td>\n",
    "    </tr>\n",
    "</table>"
   ]
  },
  {
   "cell_type": "code",
   "execution_count": 5,
   "id": "7ecbaf2d-f5de-47b6-9235-0396302bcc10",
   "metadata": {},
   "outputs": [
    {
     "name": "stdin",
     "output_type": "stream",
     "text": [
      "Tebak Angka 1 - 10 5\n"
     ]
    },
    {
     "name": "stdout",
     "output_type": "stream",
     "text": [
      "Tebakan Anda terlalu besar\n"
     ]
    },
    {
     "name": "stdin",
     "output_type": "stream",
     "text": [
      "Tebak Angka 1 - 10 2\n"
     ]
    },
    {
     "name": "stdout",
     "output_type": "stream",
     "text": [
      "Tebakan Anda terlalu besar\n"
     ]
    },
    {
     "name": "stdin",
     "output_type": "stream",
     "text": [
      "Tebak Angka 1 - 10 1\n"
     ]
    },
    {
     "name": "stdout",
     "output_type": "stream",
     "text": [
      "tebakan anda benar\n"
     ]
    }
   ],
   "source": [
    "import random\n",
    "\n",
    "number = random.randint(1, 10)\n",
    "\n",
    "#Jumlah kesempatan\n",
    "chance = 3\n",
    "\n",
    "while(True):\n",
    "    if(chance == 0):\n",
    "        print(\"Kesempatan anda habis\")\n",
    "        break\n",
    "    guess = int(input(\"Tebak Angka 1 - 10\"))\n",
    "    if(guess != number):\n",
    "        if(guess < number):\n",
    "            print(\"Tebakan Anda terlalu kecil\")\n",
    "            chance -= 1\n",
    "        elif(guess > number):\n",
    "            print(\"Tebakan Anda terlalu besar\")\n",
    "            chance -= 1\n",
    "    else:\n",
    "        print(\"tebakan anda benar\")\n",
    "        break"
   ]
  },
  {
   "cell_type": "code",
   "execution_count": 88,
   "id": "697d03a7-7e63-40d8-b2cf-0473b86c35a4",
   "metadata": {},
   "outputs": [
    {
     "name": "stdin",
     "output_type": "stream",
     "text": [
      "Cek Kata Palindrome kasur rusak\n"
     ]
    },
    {
     "name": "stdout",
     "output_type": "stream",
     "text": [
      "Kata adalah kata Palindrome\n"
     ]
    }
   ],
   "source": [
    "Char = str(input(\"Cek Kata Palindrome\"))\n",
    "isPalindrome = False\n",
    "\n",
    "for i in range(0,len(Char)):\n",
    "    if (Char[i] != Char[len(Char) - i - 1 ]):\n",
    "        print(\"Kata bukan Palindrome\")\n",
    "        break\n",
    "    else:\n",
    "        isPalindrome = True\n",
    "\n",
    "if(isPalindrome == True):\n",
    "    print(\"Kata adalah kata Palindrome\")\n",
    "\n",
    "\n",
    "    "
   ]
  },
  {
   "cell_type": "code",
   "execution_count": 103,
   "id": "916d4a31-7fc0-4821-a4f7-100403c07ac1",
   "metadata": {},
   "outputs": [
    {
     "name": "stdout",
     "output_type": "stream",
     "text": [
      "[{'name': 'kermit', 'wife': ['Elaina', 'Astra Yao']}, {'name': 'keermit'}]\n"
     ]
    }
   ],
   "source": [
    "student = [{\n",
    "    \"name\":\"kermit\",\n",
    "    \"wife\":[\"Elaina\", \"Astra Yao\"]\n",
    "},\n",
    "          {\n",
    "              \"name\":\"keermit\"\n",
    "          }]\n",
    "print(student)\n"
   ]
  },
  {
   "cell_type": "code",
   "execution_count": 2,
   "id": "195b4e16-09d4-4f41-b846-9a90636c85f3",
   "metadata": {},
   "outputs": [
    {
     "name": "stdout",
     "output_type": "stream",
     "text": [
      "Nama : Ilham\n",
      "Alamat : jl. RA Kosasih\n",
      "Umur : 19\n",
      "score : 100\n",
      "Status : False\n",
      "provinsi : 123123123\n"
     ]
    }
   ],
   "source": [
    "name = \"Ilham\"\n",
    "address,province = \"jl. RA Kosasih\",\"123123123\"\n",
    "age = 19\n",
    "scorePython = 100\n",
    "isMarried = False\n",
    "\n",
    "print(\"Nama :\",name)\n",
    "print(\"Alamat :\",address)\n",
    "print(\"Umur :\",age)\n",
    "print(\"score :\",scorePython)\n",
    "print(\"Status :\",isMarried)\n",
    "print(\"provinsi :\",province)"
   ]
  },
  {
   "cell_type": "code",
   "execution_count": 3,
   "id": "ba518259-548a-4a15-b8e2-2b0e86ab3b19",
   "metadata": {},
   "outputs": [
    {
     "name": "stdout",
     "output_type": "stream",
     "text": [
      "tipe data nama       : <class 'str'>\n",
      "tipe data Alamat     : <class 'str'>\n",
      "tipe data Umur       : <class 'int'>\n",
      "tipe data scorePython: <class 'int'>\n",
      "tipe data Status     : <class 'bool'>\n"
     ]
    }
   ],
   "source": [
    "print(\"tipe data nama       :\",type(name))\n",
    "print(\"tipe data Alamat     :\",type(address))\n",
    "print(\"tipe data Umur       :\",type(age))\n",
    "print(\"tipe data scorePython:\",type(scorePython))\n",
    "print(\"tipe data Status     :\",type(isMarried))"
   ]
  },
  {
   "cell_type": "code",
   "execution_count": 4,
   "id": "bcdbb6c1-7de9-4422-ab7c-3cebc7ada500",
   "metadata": {},
   "outputs": [
    {
     "name": "stdout",
     "output_type": "stream",
     "text": [
      "True 123123123.0 123123123\n",
      "True 19.0 19\n",
      "19 19.0 True\n",
      "19 19.0 True\n"
     ]
    }
   ],
   "source": [
    "#casting Atau konvensi tipe data\n",
    "#1. dari string ke boolean\n",
    "strToInt = int(province)\n",
    "strToFloat = float(province)\n",
    "strToBool = bool(province)\n",
    "print(strToBool,strToFloat,strToInt, sep=\" \")\n",
    "#2. interger ke (str, bool, float)\n",
    "intToStr = int(age)\n",
    "intToFloat = float(age)\n",
    "intToBool = bool(age)\n",
    "print(intToBool,intToFloat,intToStr, sep=\" \")\n",
    "#3. bool ke (str, int, float)\n",
    "boolToStr = int(age)\n",
    "boolToInt = float(age)\n",
    "boolToFloat = bool(age)\n",
    "print(boolToStr,boolToInt,boolToFloat, sep=\" \")\n",
    "\n",
    "#4. float ke (str, bool, int)\n",
    "floatToStr = int(age)\n",
    "floatToInt = float(age)\n",
    "floatToBool = bool(age)\n",
    "print(boolToStr,boolToInt,boolToFloat, sep=\" \")"
   ]
  },
  {
   "cell_type": "code",
   "execution_count": 6,
   "id": "e049001a-e1be-4ec7-95c4-5340b23d8d2a",
   "metadata": {},
   "outputs": [
    {
     "name": "stdout",
     "output_type": "stream",
     "text": [
      "Nilai decimal: 6900\n",
      "Nilai Biner: 14\n",
      "Nilai octal: 147\n",
      "Nilai hexa: 255\n",
      "Nilai biner dari 6900 : 0b1101011110100\n",
      "Nilai octal dari 6900 : 0o15364\n",
      "Nilai hexa dari 6900 : 0x1af4\n",
      "Nilai decimal dari 255 : 255\n",
      "Nilai octal dari 255 : 0o377\n",
      "Nilai biner dari 255 : 0b11111111\n"
     ]
    }
   ],
   "source": [
    "desimal = 6900 \n",
    "biner = 0b1110 #14\n",
    "octal = 0o223 #147\n",
    "hexa = 0xff #255\n",
    "\n",
    "print(\"Nilai decimal:\", desimal)\n",
    "print(\"Nilai Biner:\", biner)\n",
    "print(\"Nilai octal:\", octal)\n",
    "print(\"Nilai hexa:\", hexa)\n",
    "\n",
    "print(\"Nilai biner dari\",desimal,\":\", bin(desimal))\n",
    "print(\"Nilai octal dari\",desimal,\":\", oct(desimal))\n",
    "print(\"Nilai hexa dari\",desimal,\":\", hex(desimal))\n",
    "\n",
    "#tipe ke hexa\n",
    "print(\"Nilai decimal dari\",hexa,\":\", hexa)\n",
    "print(\"Nilai octal dari\",hexa,\":\", oct(hexa))\n",
    "print(\"Nilai biner dari\",hexa,\":\", bin(hexa))"
   ]
  },
  {
   "cell_type": "code",
   "execution_count": 7,
   "id": "d87ac9e1-3874-41f2-bc48-09d8159b7af3",
   "metadata": {},
   "outputs": [
    {
     "name": "stdout",
     "output_type": "stream",
     "text": [
      "N\n",
      "7\n",
      "u\n"
     ]
    }
   ],
   "source": [
    "city = \"Nganjuk\"\n",
    "length=len(city)\n",
    "print(city[0])\n",
    "print(length)\n",
    "print(city[length-2])"
   ]
  },
  {
   "cell_type": "code",
   "execution_count": 8,
   "id": "af6c720e-12cd-49f9-b1aa-5a194312c747",
   "metadata": {},
   "outputs": [
    {
     "name": "stdout",
     "output_type": "stream",
     "text": [
      "['Malang', 'Jakarta', 'Depok']\n",
      "Malang\n",
      "Depok\n",
      "D\n",
      "k\n",
      "['Bandung', 'Jakarta', 'Depok']\n",
      "('Kermit', 'Yuuna', 'Dio', 'Trinnon')\n",
      "Dio\n",
      "{'name': 'Yuuna', 'address': {'street': 'Ciaul', 'number': 69, 'province': 'Jawa Barat'}, 'age': 20, 'isMrried': False, 'hobbies': ['Anime', 'Drawing']}\n",
      "20\n",
      "Jawa Barat\n",
      "Anime\n",
      "{'street': 'Ciaul', 'number': 69, 'province': 'Jawa Barat'}\n",
      "{'name': 'Dio', 'address': {'street': 'Cisarua', 'number': 79, 'province': 'Jawa Barat'}, 'age': 18, 'isMrried': False, 'hobbies': ['Coding', 'Wota']}\n"
     ]
    }
   ],
   "source": [
    "#tipe data collection\n",
    "\n",
    "cities = [\"Malang\",\"Jakarta\",\"Depok\"]\n",
    "lengthCities = len(cities)\n",
    "print(cities)\n",
    "print(cities[0])\n",
    "print(cities[lengthCities-1])\n",
    "print(cities[lengthCities-1][0])\n",
    "print(cities[lengthCities-1][len(cities[lengthCities-1])-1])\n",
    "cities[0]=\"Bandung\"\n",
    "print(cities)\n",
    "\n",
    "names=(\"Kermit\",\"Yuuna\",\"Dio\",\"Trinnon\")\n",
    "print(names)\n",
    "print(names[2])\n",
    "\n",
    "studentData = {\n",
    "    \"name\" : \"Yuuna\",\n",
    "    \"address\" : {\n",
    "        \"street\":\"Ciaul\",\n",
    "        \"number\": 69,\n",
    "        \"province\":\"Jawa Barat\"\n",
    "    },\n",
    "    \"age\" : 20,\n",
    "    \"isMrried\" : False,\n",
    "    \"hobbies\": [\"Anime\", \"Drawing\"]\n",
    "}\n",
    "\n",
    "print(studentData)\n",
    "print(studentData[\"age\"])\n",
    "print(studentData[\"address\"][\"province\"])\n",
    "print(studentData[\"hobbies\"][0])\n",
    "\n",
    "studentList=[\n",
    "    {\n",
    "    \"name\" : \"Yuuna\",\n",
    "    \"address\" : {\n",
    "        \"street\":\"Ciaul\",\n",
    "        \"number\": 69,\n",
    "        \"province\":\"Jawa Barat\"\n",
    "    },\n",
    "    \"age\" : 20,\n",
    "    \"isMrried\" : False,\n",
    "    \"hobbies\": [\"Anime\", \"Drawing\"]\n",
    "    },\n",
    "    {\n",
    "    \"name\" : \"Dio\",\n",
    "    \"address\" : {\n",
    "        \"street\":\"Cisarua\",\n",
    "        \"number\": 79,\n",
    "        \"province\":\"Jawa Barat\"\n",
    "    },\n",
    "    \"age\" : 18,\n",
    "    \"isMrried\" : False,\n",
    "    \"hobbies\": [\"Coding\", \"Wota\"]\n",
    "    },\n",
    "\n",
    "]\n",
    "print(studentList[0][\"address\"])\n",
    "print(studentList[1])"
   ]
  },
  {
   "cell_type": "code",
   "execution_count": 9,
   "id": "5993b2cd-9408-4db7-b6af-47bbee7c60be",
   "metadata": {
    "scrolled": true
   },
   "outputs": [
    {
     "name": "stdout",
     "output_type": "stream",
     "text": [
      "{'name': 'Kermit', 'Age': 50, 'status': True}\n",
      "{'name': 'Trinnon', 'Age': 200, 'status': False}\n",
      "{'name': 'Seguni', 'type': 'Ikan Nus'}\n",
      "{'Anime': 'Shang-rila Frontier', 'Studio': 'C2C', 'Eps': 25}\n"
     ]
    }
   ],
   "source": [
    "#konversi dictionary\n",
    "\n",
    "list_list = [[\"name\",\"Kermit\"],[\"Age\",50],[\"status\",True]]\n",
    "dictListStudent=dict(list_list)\n",
    "print(dictListStudent)\n",
    "\n",
    "list_tuple=[(\"name\",\"Trinnon\"),(\"Age\",200),(\"status\",False)]\n",
    "dictTupleStudent=dict(list_tuple)\n",
    "print(dictTupleStudent)\n",
    "\n",
    "Tuple_list=[[\"name\",\"Seguni\"],[\"type\",\"Ikan Nus\"]]\n",
    "dictTupleAnimal=dict(Tuple_list)\n",
    "print(dictTupleAnimal)\n",
    "\n",
    "\n",
    "keys=[\"Anime\",\"Studio\",\"Eps\"]\n",
    "value=[\"Shang-rila Frontier\",\"C2C\", 25]\n",
    "car=dict(zip(keys,value))\n",
    "print(car)"
   ]
  },
  {
   "cell_type": "markdown",
   "id": "49aa9a35-3606-441e-914d-4aee68b885b6",
   "metadata": {},
   "source": [
    "<h1>Aritmethic Operation</h1>"
   ]
  },
  {
   "cell_type": "code",
   "execution_count": 9,
   "id": "eccabcf5-a5e7-4ac2-ac32-077d92f95fbd",
   "metadata": {
    "jp-MarkdownHeadingCollapsed": true
   },
   "outputs": [
    {
     "name": "stdin",
     "output_type": "stream",
     "text": [
      "Place First Input 4\n",
      "Place Second Input 6\n"
     ]
    },
    {
     "name": "stdout",
     "output_type": "stream",
     "text": [
      "Hasil Tambah 4 + 6 = 10\n",
      "Hasil Kurang 4 - 6 = -2\n",
      "Hasil Kali 4 * 6 = 24\n",
      "Hasil Pangkat ^ 6 = 4096\n",
      "Hasil Bagi 4 / 6 = 0.6666666666666666\n",
      "Hasil Mod 4 % 6 = 4\n",
      "Hasil Bagi Bulat 4 / 6 = 0\n"
     ]
    }
   ],
   "source": [
    "x = int(input(\"Place First Input\"))\n",
    "y = int(input(\"Place Second Input\"))\n",
    "\n",
    "hasilTambah = x + y\n",
    "hasilKurang = x - y\n",
    "hasilKali = x * y\n",
    "hasilPangkat = x ** y\n",
    "hasilBagi = x / y\n",
    "hasilMod = x % y\n",
    "hasilBagiBulat = x // y\n",
    "\n",
    "print(\"Hasil Tambah\",x,\"+\",y,\"=\", hasilTambah)\n",
    "print(\"Hasil Kurang\",x,\"-\",y,\"=\", hasilKurang)\n",
    "print(\"Hasil Kali\",x,\"*\",y,\"=\", hasilKali)\n",
    "print(\"Hasil Pangkat\",x,\"^\",y,\"=\", hasilPangkat)\n",
    "print(\"Hasil Bagi\",x,\"/\",y,\"=\", hasilBagi)\n",
    "print(\"Hasil Mod\",x,\"%\",y,\"=\", hasilMod)\n",
    "print(\"Hasil Bagi Bulat\",x,\"/\",y,\"=\", hasilBagiBulat)"
   ]
  },
  {
   "cell_type": "markdown",
   "id": "cc886b58-c9b3-46a7-a8a3-849b74495740",
   "metadata": {},
   "source": [
    "<h1>Penugasan</h1>"
   ]
  },
  {
   "cell_type": "code",
   "execution_count": 13,
   "id": "726f84e5-999b-4a7d-ad63-dbb4a52f12f9",
   "metadata": {},
   "outputs": [
    {
     "name": "stdin",
     "output_type": "stream",
     "text": [
      "Input  2\n"
     ]
    },
    {
     "name": "stdout",
     "output_type": "stream",
     "text": [
      "value before :\n",
      "value after adding with 5 : 7\n",
      "value after subtracting with 10 : -3\n",
      "value after multiplying with 4 : -12\n",
      "value after dividing with 2 : -6.0\n"
     ]
    }
   ],
   "source": [
    "nilai = int(input(\"Input value :\"))\n",
    "print(\"value before :\")\n",
    "nilai += 5\n",
    "print(\"value after adding with 5 :\", nilai)\n",
    "nilai -= 10\n",
    "print(\"value after subtracting with 10 :\", nilai)\n",
    "nilai *= 4\n",
    "print(\"value after multiplying with 4 :\", nilai)\n",
    "nilai /= 2\n",
    "print(\"value after dividing with 2 :\", nilai)"
   ]
  },
  {
   "cell_type": "markdown",
   "id": "4d86dd97-dccc-441d-83ce-aa6f61a5537f",
   "metadata": {},
   "source": [
    "<h1>Operator Perbandingan</h1>"
   ]
  },
  {
   "cell_type": "code",
   "execution_count": 20,
   "id": "d047fcd7-35e6-42dc-a2f5-f6cd34a33d4a",
   "metadata": {},
   "outputs": [
    {
     "name": "stdin",
     "output_type": "stream",
     "text": [
      "Input First Value 1\n",
      "Input Second Value 2\n"
     ]
    },
    {
     "name": "stdout",
     "output_type": "stream",
     "text": [
      "Is 1 equal to 2 = False\n",
      "Is 1 less than 2 = True\n",
      "Is 1 less equal than 2 = True\n",
      "Is 1 bigger than 2 = False\n",
      "Is 1 bigger equal than 2 = False\n",
      "Is 1 not equal to 2 = True\n"
     ]
    }
   ],
   "source": [
    "value = int(input(\"Input First Value\"))\n",
    "value2 = int(input(\"Input Second Value\"))\n",
    "\n",
    "print(\"Is\",value, \"equal to\", value2,\"=\",value == value2)\n",
    "print(\"Is\",value, \"less than\", value2,\"=\",value < value2)\n",
    "print(\"Is\",value, \"less equal than\", value2,\"=\",value <= value2)\n",
    "print(\"Is\",value, \"bigger than\", value2,\"=\",value > value2)\n",
    "print(\"Is\",value, \"bigger equal than\", value2,\"=\",value >= value2)\n",
    "print(\"Is\",value, \"not equal to\", value2,\"=\",value != value2)"
   ]
  },
  {
   "cell_type": "markdown",
   "id": "cfc3c69d-9148-4be1-83f2-f3304941f4d1",
   "metadata": {},
   "source": [
    "<h1>Operator Logika</h1>"
   ]
  },
  {
   "cell_type": "code",
   "execution_count": 30,
   "id": "200033cd-5253-4a0f-a094-bcbdac2ed10f",
   "metadata": {},
   "outputs": [
    {
     "name": "stdin",
     "output_type": "stream",
     "text": [
      "Input First value 1\n",
      "Input Second value 1\n"
     ]
    },
    {
     "name": "stdout",
     "output_type": "stream",
     "text": [
      "1\n",
      "1\n",
      "False\n",
      "False\n"
     ]
    }
   ],
   "source": [
    "input1 = int(input(\"Input First value\"))\n",
    "input2 = int(input(\"Input Second value\"))\n",
    "\n",
    "print(input1 and input2)\n",
    "print(input1 or input2)\n",
    "print(not(input1))\n",
    "print(not(input1 or input2))\n",
    "print(not(input1 and input2))"
   ]
  },
  {
   "cell_type": "markdown",
   "id": "5298c2bc-b733-496d-8457-2169729d48b7",
   "metadata": {},
   "source": [
    "<h1>Operator Identity</h1>"
   ]
  },
  {
   "cell_type": "code",
   "execution_count": 36,
   "id": "ba731428-159f-452e-985d-94ed96316fbf",
   "metadata": {},
   "outputs": [
    {
     "name": "stdout",
     "output_type": "stream",
     "text": [
      "Address of the first variable 140734977354456\n",
      "Address of the first variable 2716329814720\n",
      "Address of the first variable 2716329814720\n",
      "False\n",
      "True\n",
      "False\n"
     ]
    }
   ],
   "source": [
    "deez1 = 10 \n",
    "deez2 = \"10\"\n",
    "deez3 = deez2\n",
    "\n",
    "print(\"Address of the first variable\",id(deez1))\n",
    "print(\"Address of the first variable\",id(deez2))\n",
    "print(\"Address of the first variable\",id(deez3))\n",
    "\n",
    "print(deez1 is deez2)\n",
    "print(deez3 is deez2)\n",
    "print(deez3 is not deez2)"
   ]
  },
  {
   "cell_type": "markdown",
   "id": "d24ab8fd-b737-4b33-88ac-ad499d7b2136",
   "metadata": {},
   "source": [
    "<h1>Operasi Keanggotaan</h1>"
   ]
  },
  {
   "cell_type": "code",
   "execution_count": 42,
   "id": "706edffb-e6d4-49c8-9549-5e6c7c0292bd",
   "metadata": {},
   "outputs": [
    {
     "name": "stdout",
     "output_type": "stream",
     "text": [
      "True\n",
      "True\n",
      "False\n",
      "False\n"
     ]
    }
   ],
   "source": [
    "atmin = \"udin\"\n",
    "member = \"akira\"\n",
    "print(\"i\" in atmin)\n",
    "\n",
    "group = [\"udin\", \"akira\", \"mamat\"]\n",
    "\n",
    "print(atmin in group)\n",
    "print(\"toni\" in group)\n",
    "print(\"devun\" in group)"
   ]
  },
  {
   "cell_type": "markdown",
   "id": "1c864d0b-7535-43a6-8c96-cb4bcb2a041f",
   "metadata": {},
   "source": [
    "<h1>Operasi Bitwise</h1>"
   ]
  },
  {
   "cell_type": "code",
   "execution_count": 57,
   "id": "57102b34-b4b2-4bba-8101-6d3e7c519784",
   "metadata": {},
   "outputs": [
    {
     "name": "stdin",
     "output_type": "stream",
     "text": [
      "Input First Value 10\n",
      "Input Second Value 12\n"
     ]
    },
    {
     "name": "stdout",
     "output_type": "stream",
     "text": [
      "0b1010\n",
      "0b1100\n",
      "-----------&\n",
      "0b1000 = 8\n",
      "\n",
      "0b1010\n",
      "0b1100\n",
      "-----------|\n",
      "0b1110 = 14\n",
      "\n",
      "0b1010\n",
      "0b1100\n",
      "-----------^\n",
      "0b110 = 6\n",
      "\n",
      "0b1010 Binary Shift to the left 12 times\n",
      "0b1010000000000000 = 40960\n",
      "\n",
      "0b1010 Binary Shift to the right 12 times\n",
      "0b0 = 0\n"
     ]
    }
   ],
   "source": [
    "value1 = int(input(\"Input First Value\"))\n",
    "value2 = int(input(\"Input Second Value\"))\n",
    "\n",
    "print(bin(value1))\n",
    "print(bin(value2))\n",
    "print(\"-----------&\")\n",
    "print(bin(value1 & value2), \"=\", value1 & value2)\n",
    "print()\n",
    "\n",
    "print(bin(value1))\n",
    "print(bin(value2))\n",
    "print(\"-----------|\")\n",
    "print(bin(value1 | value2), \"=\", value1 | value2)\n",
    "print()\n",
    "\n",
    "print(bin(value1))\n",
    "print(bin(value2))\n",
    "print(\"-----------^\")\n",
    "print(bin(value1 ^ value2), \"=\", value1 ^ value2)\n",
    "print()\n",
    "\n",
    "print(bin(value1),\"Binary Shift to the left\", value2, \"times\")\n",
    "print(bin(value1 << value2), \"=\", value1 << value2)\n",
    "print()\n",
    "\n",
    "print(bin(value1),\"Binary Shift to the right\", value2, \"times\")\n",
    "print(bin(value1 >> value2), \"=\", value1 >> value2)"
   ]
  },
  {
   "cell_type": "markdown",
   "id": "a34b87ea-05d6-435f-93d4-6da14d9018c5",
   "metadata": {},
   "source": [
    "<h1>Tenary Operator</h1>"
   ]
  },
  {
   "cell_type": "code",
   "execution_count": 60,
   "id": "c695eb44-a5ae-423e-8c3b-4cd8eccb5417",
   "metadata": {},
   "outputs": [
    {
     "name": "stdin",
     "output_type": "stream",
     "text": [
      "Input Value 9\n"
     ]
    },
    {
     "name": "stdout",
     "output_type": "stream",
     "text": [
      "Odd\n"
     ]
    }
   ],
   "source": [
    "value1 = int(input(\"Input Value\"))\n",
    "\n",
    "finalValue = value1 % 2\n",
    "print(\"Even\" if finalValue == 0 else \"Odd\")"
   ]
  },
  {
   "cell_type": "code",
   "execution_count": 79,
   "id": "fe46ebf1-88e6-4a79-a340-7adda024cf20",
   "metadata": {},
   "outputs": [
    {
     "name": "stdout",
     "output_type": "stream",
     "text": [
      "Piscok : 13000\n",
      "Kolak : 7000\n",
      "esBuah : 15000\n"
     ]
    },
    {
     "name": "stdin",
     "output_type": "stream",
     "text": [
      "Jumlah Pisang yang akan dibeli 0\n",
      "Jumlah kolak yang akan dibeli 0\n",
      "Jumlah esBuah yang akan dibeli 1\n"
     ]
    },
    {
     "name": "stdout",
     "output_type": "stream",
     "text": [
      "piscok 0 * 13000 = 0\n",
      "piscok 0 * 7000 = 0\n",
      "piscok 1 * 15000 = 15000\n",
      "----------------\n",
      "Total Belanja 15000\n",
      "Diskon : 0 % --> 0.0\n",
      "Total Bayar 15000.0\n"
     ]
    }
   ],
   "source": [
    "piscok = 13000\n",
    "kolak = 7000\n",
    "esBuah = 15000\n",
    "\n",
    "\n",
    "\n",
    "print(\"Piscok :\", piscok)\n",
    "print(\"Kolak :\", kolak)\n",
    "print(\"esBuah :\", esBuah)\n",
    "\n",
    "jumlahPiscok = int(input(\"Jumlah Pisang yang akan dibeli\"))\n",
    "jumlahKolak= int(input(\"Jumlah kolak yang akan dibeli\"))\n",
    "jumlahEsBuah= int(input(\"Jumlah esBuah yang akan dibeli\"))\n",
    "\n",
    "print(\"piscok\", jumlahPiscok, \"*\", piscok,\"=\", jumlahPiscok*piscok) \n",
    "print(\"piscok\", jumlahKolak, \"*\", kolak,\"=\", jumlahKolak*kolak) \n",
    "print(\"piscok\", jumlahEsBuah, \"*\", esBuah,\"=\", jumlahEsBuah*esBuah)\n",
    "print(\"--------------------------\")\n",
    "totalBelanja = jumlahPiscok*piscok+ jumlahKolak*kolak+jumlahEsBuah*esBuah\n",
    "print(\"Total Belanja\", totalBelanja)\n",
    "discount = 5 if totalBelanja > 25000 else 0\n",
    "print(\"Diskon :\", discount, \"%\", \"-->\", totalBelanja*(discount/100))\n",
    "print(\"Total Bayar\",  totalBelanja-(totalBelanja*(discount/100))) "
   ]
  },
  {
   "cell_type": "code",
   "execution_count": 72,
   "id": "8c1b2f14-20fb-40fa-bd30-f2b132174962",
   "metadata": {},
   "outputs": [],
   "source": []
  }
 ],
 "metadata": {
  "kernelspec": {
   "display_name": "Python 3 (ipykernel)",
   "language": "python",
   "name": "python3"
  },
  "language_info": {
   "codemirror_mode": {
    "name": "ipython",
    "version": 3
   },
   "file_extension": ".py",
   "mimetype": "text/x-python",
   "name": "python",
   "nbconvert_exporter": "python",
   "pygments_lexer": "ipython3",
   "version": "3.12.7"
  }
 },
 "nbformat": 4,
 "nbformat_minor": 5
}
