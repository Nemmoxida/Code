{
 "cells": [
  {
   "cell_type": "code",
   "execution_count": 44,
   "id": "7303c7f3-7929-4239-8f5e-62554aa2bb2a",
   "metadata": {},
   "outputs": [],
   "source": [
    "import ast"
   ]
  },
  {
   "cell_type": "code",
   "execution_count": 47,
   "id": "cdd1e36a-325f-4090-afcd-50d81f1b9422",
   "metadata": {},
   "outputs": [
    {
     "name": "stdout",
     "output_type": "stream",
     "text": [
      "\n",
      "Pilihan\n",
      "1. Tambahkan data\n",
      "2. Tampilkan Data\n",
      "3. Exit\n",
      "4. Cari Data\n"
     ]
    },
    {
     "name": "stdin",
     "output_type": "stream",
     "text": [
      "Input 3\n"
     ]
    }
   ],
   "source": [
    "class InputDataError(Exception):\n",
    "    pass\n",
    "\n",
    "def dataCheck(data):\n",
    "    kelas = [\"TI24H\", \"TI24F\", \"TI24G\", \"TI24Z\"]\n",
    "    if len(data[\"nim\"]) != 11:\n",
    "        raise InputDataError(\"Nim mush have the legth of 11 character\")\n",
    "    elif len(data[\"nama\"]) <3:\n",
    "        raise InputDataError(\"Name need to be more than 3 character\")\n",
    "    elif len(data[\"alamat\"]) <5:\n",
    "        raise InputDataError(\"Address need to be more than 5 character\")\n",
    "    elif data[\"kelas\"] not in kelas:\n",
    "        raise InputDataError(\"Class in not in the list\")\n",
    "\n",
    "while True:\n",
    "    print()\n",
    "    print(\"Pilihan\")\n",
    "    print(\"1. Tambahkan data\")\n",
    "    print(\"2. Tampilkan Data\")\n",
    "    print(\"3. Exit\")\n",
    "    print(\"4. Cari Data\")\n",
    "    choice1 = int(input(\"Input\"))\n",
    "    if choice1 == 1:\n",
    "        try:\n",
    "            data = {\n",
    "                \"nim\" : \"00000000000\",\n",
    "                \"nama\" : \"123\",\n",
    "                \"alamat\" : \"12345\",\n",
    "                \"kelas\" : \"TI24H\"\n",
    "            }\n",
    "            nim = input(\"NIM\")\n",
    "            data[\"nim\"] = nim\n",
    "            dataCheck(data)\n",
    "            nama = input(\"Nama\")\n",
    "            data[\"nama\"] = nama\n",
    "            dataCheck(data)\n",
    "            alamat = input(\"Alamat\")\n",
    "            data[\"alamat\"] = alamat\n",
    "            dataCheck(data)\n",
    "            kelas = input(\"Kelas\")\n",
    "            data[\"kelas\"] = kelas\n",
    "            dataCheck(data)\n",
    "\n",
    "\n",
    "\n",
    "        except InputDataError as e:\n",
    "            print(e)\n",
    "        else:\n",
    "            with open(\"test.txt\", \"a\") as f:\n",
    "                f.write(str(data))\n",
    "            print(f\"data telah di tambahkan {data}\")\n",
    "    \n",
    "    elif choice1 == 2:\n",
    "        print(\"Data :\")\n",
    "        with open(\"test.txt\", \"r\")as f:\n",
    "            print(f.read())\n",
    "    elif choice1 == 3:\n",
    "        break\n",
    "    elif choice1 == 4:\n",
    "        print(\"WIP\")\n",
    "        # search = input(\"masukan data yang dicari\")\n",
    "        # with open(\"text.txt\", \"r\") as f:\n",
    "        #     data = f.read()\n",
    "        #     result = ast.literal_eval(data)\n",
    "            \n",
    "    else:\n",
    "        print(\"no \")"
   ]
  }
 ],
 "metadata": {
  "kernelspec": {
   "display_name": "Python 3 (ipykernel)",
   "language": "python",
   "name": "python3"
  },
  "language_info": {
   "codemirror_mode": {
    "name": "ipython",
    "version": 3
   },
   "file_extension": ".py",
   "mimetype": "text/x-python",
   "name": "python",
   "nbconvert_exporter": "python",
   "pygments_lexer": "ipython3",
   "version": "3.12.7"
  }
 },
 "nbformat": 4,
 "nbformat_minor": 5
}
