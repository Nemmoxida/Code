{
 "cells": [
  {
   "cell_type": "code",
   "execution_count": 40,
   "id": "878e2ea8-f2cd-4a7b-a0f8-5524b73dfb0c",
   "metadata": {},
   "outputs": [],
   "source": [
    "import modules.math as mt\n",
    "import modules.convert as cnv"
   ]
  },
  {
   "cell_type": "code",
   "execution_count": 42,
   "id": "6c5c317b-ca14-4308-894a-1306caae8fb5",
   "metadata": {
    "scrolled": true
   },
   "outputs": [
    {
     "name": "stdout",
     "output_type": "stream",
     "text": [
      "\n",
      "    1. Aritmethic\n",
      "    2. Convert\n",
      "    3. Exit\n",
      "    \n"
     ]
    },
    {
     "name": "stdin",
     "output_type": "stream",
     "text": [
      "Pick choise 2\n"
     ]
    },
    {
     "name": "stdout",
     "output_type": "stream",
     "text": [
      "\n",
      "    1. cm to m\n",
      "    2. m to cm\n",
      "    3. celcius to farenheit\n",
      "    4. exit\n",
      "    \n"
     ]
    },
    {
     "name": "stdin",
     "output_type": "stream",
     "text": [
      "pick function 3\n"
     ]
    },
    {
     "name": "stdout",
     "output_type": "stream",
     "text": [
      "WIP\n",
      "\n",
      "    1. Aritmethic\n",
      "    2. Convert\n",
      "    3. Exit\n",
      "    \n"
     ]
    },
    {
     "name": "stdin",
     "output_type": "stream",
     "text": [
      "Pick choise 1\n"
     ]
    },
    {
     "name": "stdout",
     "output_type": "stream",
     "text": [
      "\n",
      "    1. add\n",
      "    2. power of\n",
      "    3. multiply\n",
      "    4. exit\n",
      "    \n"
     ]
    },
    {
     "name": "stdin",
     "output_type": "stream",
     "text": [
      "pick function 2\n"
     ]
    },
    {
     "name": "stdout",
     "output_type": "stream",
     "text": [
      "Add 2 value, base and power\n"
     ]
    },
    {
     "name": "stdin",
     "output_type": "stream",
     "text": [
      "add value 10\n",
      "add value 5\n"
     ]
    },
    {
     "name": "stdout",
     "output_type": "stream",
     "text": [
      "the result is : 100000\n",
      "\n",
      "    1. Aritmethic\n",
      "    2. Convert\n",
      "    3. Exit\n",
      "    \n"
     ]
    },
    {
     "name": "stdin",
     "output_type": "stream",
     "text": [
      "Pick choise 3\n"
     ]
    }
   ],
   "source": [
    "def mainMenu():\n",
    "    print(\"\"\"\n",
    "    1. Aritmethic\n",
    "    2. Convert\n",
    "    3. Exit\n",
    "    \"\"\")\n",
    "\n",
    "def aritMenu():\n",
    "    print(\"\"\"\n",
    "    1. add\n",
    "    2. power of\n",
    "    3. multiply\n",
    "    4. exit\n",
    "    \"\"\")\n",
    "\n",
    "def aritAdd():\n",
    "    print(\"Add 2 value\")\n",
    "    x = int(input(\"add value\"))\n",
    "    y = int(input(\"add value\"))\n",
    "\n",
    "    result = mt.sum(x,y)\n",
    "    print(f\"the result is : {result}\")\n",
    "\n",
    "def aritPow():\n",
    "    print(\"Add 2 value, base and power\")\n",
    "    x = int(input(\"add value\"))\n",
    "    y = int(input(\"add value\"))\n",
    "\n",
    "    result = mt.pow(x,y)\n",
    "    print(f\"the result is : {result}\")\n",
    "    \n",
    "def aritMulti():\n",
    "    print(\"Add 2 value\")\n",
    "    x = int(input(\"add value\"))\n",
    "    y = int(input(\"add value\"))\n",
    "\n",
    "    result = mt.multi(x,y)\n",
    "    print(f\"the result is : {result}\")\n",
    "\n",
    "def convertMenu():\n",
    "    print(\"\"\"\n",
    "    1. cm to m\n",
    "    2. m to cm\n",
    "    3. celcius to farenheit\n",
    "    4. exit\n",
    "    \"\"\")\n",
    "\n",
    "def convertCmTm():\n",
    "    print(\"input value of cm\")\n",
    "    x = int(input(\"value\"))\n",
    "    result = cnv.cmToM(x)\n",
    "    print(f\"the result is : {result} m\")\n",
    "    \n",
    "def convertmToCm():\n",
    "    print(\"input value of m\")\n",
    "    x = int(input(\"value\"))\n",
    "    result = cnv.mToCm(x)\n",
    "    print(f\"the result is : {result} cm\")\n",
    "    \n",
    "def convertCToF():\n",
    "    print(\"input value celcius\")\n",
    "    x = int(input(\"value\"))\n",
    "    result = cnv.cToF(x)\n",
    "    print(f\"the result is : {result} c\")\n",
    "\n",
    "while True:\n",
    "    mainMenu()\n",
    "    choise = int(input(\"Pick choise\"))\n",
    "\n",
    "    # if arimethic\n",
    "    if choise == 1:\n",
    "        # Aritmethic menu\n",
    "        aritMenu()\n",
    "        choise2 = int(input(\"pick function\"))\n",
    "        # Choise for the arit menu\n",
    "        if choise2 == 1:\n",
    "            aritAdd()\n",
    "        elif choise2 == 2:\n",
    "            aritPow()\n",
    "        elif choise2 == 3:\n",
    "            aritMulti()\n",
    "        elif choise2 == 4:\n",
    "            break\n",
    "        else:\n",
    "            print(\"Invalid input\")\n",
    "            \n",
    "    # if convert\n",
    "    elif choise == 2:\n",
    "        convertMenu()\n",
    "        choise2 = int(input(\"pick function\"))\n",
    "        if choise2 == 1:\n",
    "            convertCmTm()\n",
    "        elif choise2 == 2:\n",
    "            convertmToCm()\n",
    "        elif choise2 == 3:\n",
    "            print(\"WIP\")\n",
    "        elif choise2 == 4:\n",
    "            break\n",
    "        else:\n",
    "            print(\"Invalid input\")\n",
    "\n",
    "    # Break\n",
    "    elif choise == 3:\n",
    "        break\n",
    "    "
   ]
  },
  {
   "cell_type": "code",
   "execution_count": 39,
   "id": "6404326a-00a1-4b72-b1f2-a1d6aed5fe3d",
   "metadata": {},
   "outputs": [
    {
     "name": "stdin",
     "output_type": "stream",
     "text": [
      "asd 100\n"
     ]
    },
    {
     "name": "stdout",
     "output_type": "stream",
     "text": [
      "212.0\n"
     ]
    }
   ],
   "source": [
    "c = int(input(\"asd\"))\n",
    "\n",
    "x = (c*(9/5)) +32\n",
    "\n",
    "print(x)"
   ]
  }
 ],
 "metadata": {
  "kernelspec": {
   "display_name": "Python 3 (ipykernel)",
   "language": "python",
   "name": "python3"
  },
  "language_info": {
   "codemirror_mode": {
    "name": "ipython",
    "version": 3
   },
   "file_extension": ".py",
   "mimetype": "text/x-python",
   "name": "python",
   "nbconvert_exporter": "python",
   "pygments_lexer": "ipython3",
   "version": "3.12.7"
  }
 },
 "nbformat": 4,
 "nbformat_minor": 5
}
