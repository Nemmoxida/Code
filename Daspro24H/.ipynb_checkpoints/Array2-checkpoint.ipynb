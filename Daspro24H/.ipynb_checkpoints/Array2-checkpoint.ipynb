{
 "cells": [
  {
   "cell_type": "code",
   "execution_count": 84,
   "id": "41ce4af3-f608-45c6-96ff-88ae21c58264",
   "metadata": {},
   "outputs": [
    {
     "name": "stdout",
     "output_type": "stream",
     "text": [
      "2D array : \n",
      " [[ 4  3]\n",
      " [32  3]]\n",
      "\n",
      "dot product : \n",
      " [[ 14  51]\n",
      " [ 70 303]]\n",
      "\n",
      "2D array 2nd index : \n",
      " [32  3]\n",
      "\n",
      "sum of 2 arrays : \n",
      "[[ 6 12]\n",
      " [34  8]]\n",
      "\n",
      "subtraction of 2 arrays : \n",
      "[[ 2 -6]\n",
      " [30 -2]]\n",
      "\n",
      "multiply of 2 arrays : \n",
      "[[ 8 27]\n",
      " [64 15]]\n",
      "\n",
      "array multiply of 2 arrays : \n",
      "[[ 14  51]\n",
      " [ 70 303]]\n",
      "\n",
      "inv matrix of array x : \n",
      "[[-0.03571429  0.03571429]\n",
      " [ 0.38095238 -0.04761905]]\n"
     ]
    }
   ],
   "source": [
    "import numpy as np\n",
    "\n",
    "x = np.array([[4,3],[32,3]])\n",
    "y = np.array([[2,9],[2,5]])\n",
    "\n",
    "print(f\"2D array : \\n {x}\")\n",
    "print()\n",
    "print(f\"dot product : \\n {np.dot(x,y)}\")\n",
    "print()\n",
    "print(f\"2D array 2nd index : \\n {x[1]}\")\n",
    "print()\n",
    "print(f\"sum of 2 arrays : \\n{x + y}\")\n",
    "print()\n",
    "print(f\"subtraction of 2 arrays : \\n{x - y}\")\n",
    "print()\n",
    "print(f\"multiply of 2 arrays : \\n{x * y}\")\n",
    "print()\n",
    "print(f\"array multiply of 2 arrays : \\n{x @ y}\")\n",
    "print()\n",
    "print(f\"inv matrix of array x : \\n{np.linalg.inv(x)}\")"
   ]
  },
  {
   "cell_type": "code",
   "execution_count": 36,
   "id": "0b1219b3-d978-4de0-a22c-05564965dd42",
   "metadata": {},
   "outputs": [
    {
     "name": "stdout",
     "output_type": "stream",
     "text": [
      "[[ 40  30]\n",
      " [320  30]]\n",
      "\n",
      "[40 30]\n",
      "\n",
      "30\n",
      "(2, 2)\n",
      "4\n"
     ]
    }
   ],
   "source": [
    "x = np.array([[4,3],[32,3]])\n",
    "y = np.array([[2,9],[2,5]])\n",
    "\n",
    "multiX = x * 10\n",
    "\n",
    "print(multiX)\n",
    "print()\n",
    "print(multiX[0])\n",
    "print()\n",
    "print(multiX[0][1])\n",
    "\n",
    "print(x.shape)\n",
    "print(x.size)"
   ]
  },
  {
   "cell_type": "code",
   "execution_count": 73,
   "id": "1a7bfe72-c62f-4269-9d3a-05b6ae203d82",
   "metadata": {},
   "outputs": [
    {
     "name": "stdout",
     "output_type": "stream",
     "text": [
      "(5, 5, 5)\n",
      "\n",
      "125\n",
      "\n",
      "[[7 7 7]\n",
      " [7 7 7]\n",
      " [7 7 7]]\n",
      "\n",
      "[[1. 0. 0.]\n",
      " [0. 1. 0.]\n",
      " [0. 0. 1.]]\n",
      "\n",
      "[[0.44546252 0.54096392 0.41601598 0.07502022 0.79154195]\n",
      " [0.59500398 0.68081227 0.82135426 0.33346532 0.54194499]\n",
      " [0.41007865 0.66140875 0.40325763 0.32356291 0.45474566]\n",
      " [0.233736   0.11130739 0.7134693  0.46302101 0.7171594 ]\n",
      " [0.54432576 0.50109196 0.33740339 0.93228533 0.22363375]]\n",
      "\n",
      "[[71 89 59 27 30]\n",
      " [ 5 41  7 77  4]\n",
      " [ 7 24 19 84 94]\n",
      " [64 37 25 83 47]\n",
      " [52 73 76 88 53]]\n"
     ]
    }
   ],
   "source": [
    "x = np.zeros((5,5,5), dtype = int)\n",
    "mSame = np.full((3,3), 7)\n",
    "mIdentity = np.eye(3)\n",
    "mRandom = np.random.rand(5,5)\n",
    "mRandomInt = np.random.randint(0,100, size=(5,5))\n",
    "\n",
    "print(x.shape)  # Shape of a matrix like 2x2\n",
    "print()\n",
    "print(x.size)   # How much element in an array\n",
    "print()\n",
    "print(mSame)\n",
    "print()\n",
    "print(mIdentity) #Identity matrix\n",
    "print()\n",
    "print(mRandom) # random matrix\n",
    "print()\n",
    "print(mRandomInt) # random matrix with  decimal number"
   ]
  },
  {
   "cell_type": "code",
   "execution_count": 83,
   "id": "d9cee81b-c90f-478a-a08a-5f4a1db8195f",
   "metadata": {},
   "outputs": [
    {
     "name": "stdout",
     "output_type": "stream",
     "text": [
      "[[ 1  2  3  4  5  6  7  8  9 10 11 12]]\n",
      "[ 1  2  3  4  5  6  7  8  9 10 11 12]\n"
     ]
    }
   ],
   "source": [
    "b = a.reshape(1,12) # changing the shape of an array (need to have the same size)\n",
    "mFlat = a.flatten() # Flatting matrixes into 1D\n",
    "\n",
    "print(b)\n",
    "print(mFlat)"
   ]
  },
  {
   "cell_type": "code",
   "execution_count": 89,
   "id": "84951ac4-d43e-41a5-97b2-e08c9b222e07",
   "metadata": {},
   "outputs": [
    {
     "name": "stdout",
     "output_type": "stream",
     "text": [
      "2\n",
      "9\n",
      "4.5\n",
      "18\n",
      "2.8722813232690143\n"
     ]
    }
   ],
   "source": [
    "x = np.array([[4,3],[32,3]])\n",
    "y = np.array([[2,9],[2,5]])\n",
    "\n",
    "print(y.min()) # find the smallest value in the array\n",
    "print(y.max()) # find the biggest value in the array\n",
    "print(y.mean()) # find the avrg value in the array\n",
    "print(y.sum()) # find the sum value in the array\n",
    "print(y.std()) # find the standar deviation value value in the array"
   ]
  },
  {
   "cell_type": "code",
   "execution_count": 95,
   "id": "13309770-4e84-4301-ad19-1b5241cc8bd6",
   "metadata": {},
   "outputs": [
    {
     "name": "stdout",
     "output_type": "stream",
     "text": [
      "[ 6  7  8  9 10 11 12]\n",
      "7\n",
      "5\n"
     ]
    }
   ],
   "source": [
    "filter = a[a > 5]\n",
    "\n",
    "print(filter) # only contain matrix a that have a value more than 5\n",
    "print(filter.size) # check the size of the filter\n",
    "print(a.size - filter.size) # difference between the filter and a"
   ]
  },
  {
   "cell_type": "code",
   "execution_count": 76,
   "id": "aa9279dc-4792-48cc-81a8-7f9163d9f171",
   "metadata": {},
   "outputs": [
    {
     "name": "stdout",
     "output_type": "stream",
     "text": [
      "[[1 0 0]\n",
      " [0 0 0]\n",
      " [0 0 0]\n",
      " [0 0 0]]\n",
      "[[1 2 0]\n",
      " [0 0 0]\n",
      " [0 0 0]\n",
      " [0 0 0]]\n",
      "[[1 2 3]\n",
      " [0 0 0]\n",
      " [0 0 0]\n",
      " [0 0 0]]\n",
      "[[1 2 3]\n",
      " [4 0 0]\n",
      " [0 0 0]\n",
      " [0 0 0]]\n",
      "[[1 2 3]\n",
      " [4 5 0]\n",
      " [0 0 0]\n",
      " [0 0 0]]\n",
      "[[1 2 3]\n",
      " [4 5 6]\n",
      " [0 0 0]\n",
      " [0 0 0]]\n",
      "[[1 2 3]\n",
      " [4 5 6]\n",
      " [7 0 0]\n",
      " [0 0 0]]\n",
      "[[1 2 3]\n",
      " [4 5 6]\n",
      " [7 8 0]\n",
      " [0 0 0]]\n",
      "[[1 2 3]\n",
      " [4 5 6]\n",
      " [7 8 9]\n",
      " [0 0 0]]\n",
      "[[ 1  2  3]\n",
      " [ 4  5  6]\n",
      " [ 7  8  9]\n",
      " [10  0  0]]\n",
      "[[ 1  2  3]\n",
      " [ 4  5  6]\n",
      " [ 7  8  9]\n",
      " [10 11  0]]\n",
      "[[ 1  2  3]\n",
      " [ 4  5  6]\n",
      " [ 7  8  9]\n",
      " [10 11 12]]\n"
     ]
    }
   ],
   "source": [
    "a = np.zeros((4,3), dtype = int)\n",
    "\n",
    "number = 1\n",
    "\n",
    "for i in range(len(a)):\n",
    "    for j in range(len(a[0])):\n",
    "        a[i][j] = number\n",
    "        number += 1\n",
    "        print(a)\n",
    "            "
   ]
  },
  {
   "cell_type": "code",
   "execution_count": 116,
   "id": "8f321218-6c5e-445e-8253-ec96312fa035",
   "metadata": {},
   "outputs": [
    {
     "name": "stdout",
     "output_type": "stream",
     "text": [
      "    age  gender  transaction     score\n",
      "0    37  Female           11       Bad\n",
      "1    22    Male           14      Good\n",
      "2    55    Male           21      Good\n",
      "3    55  Female           37      Good\n",
      "4    50  Female           21       Bad\n",
      "..  ...     ...          ...       ...\n",
      "95   27  Female            2       Bad\n",
      "96   51  Female           29      Good\n",
      "97   27    Male           20       Bad\n",
      "98   47    Male            7      Good\n",
      "99   55    Male           27  Excelent\n",
      "\n",
      "[100 rows x 4 columns]\n",
      "\n",
      "<class 'pandas.core.frame.DataFrame'>\n",
      "RangeIndex: 100 entries, 0 to 99\n",
      "Data columns (total 4 columns):\n",
      " #   Column       Non-Null Count  Dtype \n",
      "---  ------       --------------  ----- \n",
      " 0   age          100 non-null    int32 \n",
      " 1   gender       100 non-null    object\n",
      " 2   transaction  100 non-null    int32 \n",
      " 3   score        100 non-null    object\n",
      "dtypes: int32(2), object(2)\n",
      "memory usage: 2.5+ KB\n",
      "None\n",
      "\n",
      "   age  gender  transaction score\n",
      "0   37  Female           11   Bad\n",
      "1   22    Male           14  Good\n",
      "2   55    Male           21  Good\n",
      "3   55  Female           37  Good\n",
      "4   50  Female           21   Bad\n"
     ]
    }
   ],
   "source": [
    "import pandas as pd\n",
    "\n",
    "data = 100\n",
    "\n",
    "age = np.random.randint(17,61,size=data)\n",
    "gender = np.random.choice([\"Male\", \"Female\"], size = data)\n",
    "transaction = np.random.randint(0,51,size=data)\n",
    "score = np.random.choice([\"Bad\", \"Good\", \"Excelent\"], size=data)\n",
    "\n",
    "df = pd.DataFrame({\n",
    "    \"age\":age,\n",
    "    \"gender\":gender,\n",
    "    \"transaction\":transaction,\n",
    "    \"score\":score\n",
    "})\n",
    "\n",
    "print(df)\n",
    "print()\n",
    "print(df.info()) # info of the dataset\n",
    "print()\n",
    "print(df.head()) # 5 of the first row of the data\n",
    "\n",
    "df.to_csv(\"Data.csv\")"
   ]
  },
  {
   "cell_type": "code",
   "execution_count": 135,
   "id": "de02b5d7-97f6-4728-953d-0baffe8cd273",
   "metadata": {},
   "outputs": [
    {
     "name": "stdout",
     "output_type": "stream",
     "text": [
      "17\n",
      "\n",
      "60\n",
      "\n",
      "avrg age :  39.42\n",
      "\n",
      "58\n"
     ]
    }
   ],
   "source": [
    "print(df.age.min()) # finding the smallest value in age\n",
    "print()\n",
    "print(df.age.max()) # finding the biggest value in age\n",
    "print()\n",
    "print(f\"avrg age :  {df.age.mean()}\")\n",
    "print()\n",
    "print(df[df[\"gender\"] == \"Female\"].gender.size) # finding how much female in the data"
   ]
  }
 ],
 "metadata": {
  "kernelspec": {
   "display_name": "Python 3 (ipykernel)",
   "language": "python",
   "name": "python3"
  },
  "language_info": {
   "codemirror_mode": {
    "name": "ipython",
    "version": 3
   },
   "file_extension": ".py",
   "mimetype": "text/x-python",
   "name": "python",
   "nbconvert_exporter": "python",
   "pygments_lexer": "ipython3",
   "version": "3.12.7"
  }
 },
 "nbformat": 4,
 "nbformat_minor": 5
}
