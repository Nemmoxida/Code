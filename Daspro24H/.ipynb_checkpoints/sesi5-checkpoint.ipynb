{
 "cells": [
  {
   "cell_type": "code",
   "execution_count": null,
   "metadata": {},
   "outputs": [],
   "source": [
    "name = input(\"Enter your name: \")\n",
    "age = int(input(\"Enter your age: \"))\n",
    "address = input(\"Enter your address: \")\n",
    "\n",
    "print(\"Your name is {} Your age is {} Your address is {}\".format(name, age, address))"
   ]
  },
  {
   "cell_type": "code",
   "execution_count": null,
   "metadata": {},
   "outputs": [],
   "source": [
    "uni = \"UNIVERSITAS NUSA PUTRA SUKABUMI\"\n",
    "\n",
    "# a. putra nusa\n",
    "a = uni[17:23] + \" \" + uni[12:17]\n",
    "print(\"a.\", a.lower())\n",
    "\n",
    "# b. NIVERSITAS NSA PTRA SKABMI\n",
    "b = uni[1:11] + \" \" + uni[12] + uni[14:16] + \" \" + uni[17] + uni[19:22] + \" \" + uni[23] + uni[25:]\n",
    "print(\"b.\", b)\n",
    "\n",
    "# c. SUKABUMI PUTRA NUSA UNIVERSITAS\n",
    "c = uni[23:] + \" \"+ uni[17:22] + \" \" + uni[12:16] + \" \" + uni[0:11]\n",
    "print(\"c.\", c)\n",
    "\n",
    "# d. UNPS\n",
    "d = uni[0] + uni[12] + uni[17] + uni[23]\n",
    "print(\"d.\", d)\n",
    "\n",
    "# e. TAS SAPU BUMI\n",
    "e = uni[8:11] + \" \" + uni[14:19] + \" \" + uni[27:]\n",
    "print(\"e.\", e)"
   ]
  }
 ],
 "metadata": {
  "language_info": {
   "name": "python"
  }
 },
 "nbformat": 4,
 "nbformat_minor": 2
}
