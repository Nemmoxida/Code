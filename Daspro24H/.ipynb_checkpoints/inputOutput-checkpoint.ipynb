{
 "cells": [
  {
   "cell_type": "markdown",
   "id": "578d6e6c-1b52-4a57-8649-42c0fe465a07",
   "metadata": {},
   "source": [
    "<h1>Input</h1>"
   ]
  },
  {
   "cell_type": "code",
   "execution_count": 7,
   "id": "cd23cf69-b467-411f-b427-03d2e7850353",
   "metadata": {},
   "outputs": [
    {
     "name": "stdin",
     "output_type": "stream",
     "text": [
      "Input your name kermit\n"
     ]
    },
    {
     "name": "stdout",
     "output_type": "stream",
     "text": [
      "Welcome kermit\n",
      "0123456789\n",
      "A_B_C\n"
     ]
    }
   ],
   "source": [
    "name = input(\"Input your name\")\n",
    "\n",
    "print(\"Welcome\", name)\n",
    "for i in range(10):\n",
    "    print(i, end='')\n",
    "    \n",
    "print()\n",
    "print(\"A\", \"B\", \"C\", sep=\"_\")"
   ]
  },
  {
   "cell_type": "markdown",
   "id": "f5a836a8-da25-45b6-93d0-1c6e2a606da2",
   "metadata": {},
   "source": [
    "<h1>Sring Format</h1>"
   ]
  },
  {
   "cell_type": "code",
   "execution_count": 11,
   "id": "8e26394c-25b4-4206-887b-786fa0e088e6",
   "metadata": {},
   "outputs": [
    {
     "name": "stdin",
     "output_type": "stream",
     "text": [
      "Input the first interger 10\n",
      "Input the second interger 11\n"
     ]
    },
    {
     "name": "stdout",
     "output_type": "stream",
     "text": [
      "The sum of two interger 10 + 11 = 21 \n"
     ]
    }
   ],
   "source": [
    "val = int(input(\"Input the first interger\"))\n",
    "val2 = int(input(\"Input the second interger\"))\n",
    "\n",
    "print(\"The sum of two interger {} + {} = {} \".format(val, val2, val+val2))"
   ]
  },
  {
   "cell_type": "markdown",
   "id": "028bad63-c161-4f42-aff6-f05b5fb2ab38",
   "metadata": {},
   "source": [
    "<h1>Format Index</h1>"
   ]
  },
  {
   "cell_type": "code",
   "execution_count": 16,
   "id": "ba2ee647-766f-4635-ae75-08256c2c6c47",
   "metadata": {},
   "outputs": [
    {
     "name": "stdin",
     "output_type": "stream",
     "text": [
      "Input your first name niki\n",
      "Input your middle name kermit\n",
      "Input your last name nishimura\n"
     ]
    },
    {
     "name": "stdout",
     "output_type": "stream",
     "text": [
      "Full name : niki kermit nishimura\n",
      "Full name : kermit niki nishimura\n",
      "Full name : niki nishimura kermit\n"
     ]
    }
   ],
   "source": [
    "fName = input(\"Input your first name\")\n",
    "mName = input(\"Input your middle name\")\n",
    "lName = input(\"Input your last name\")\n",
    "\n",
    "print(\"Full name : {} {} {}\".format(fName,mName,lName))\n",
    "print(\"Full name : {1} {0} {2}\".format(fName,mName,lName))\n",
    "\n",
    "#key variable\n",
    "print(\"Full name : {f} {m} {l}\".format(f=fName,l=mName,m=lName))"
   ]
  },
  {
   "cell_type": "markdown",
   "id": "17dbc6d9-f8ac-41d1-9f8e-684f6bf126a9",
   "metadata": {},
   "source": [
    "<h1>Slicing</h1>"
   ]
  },
  {
   "cell_type": "code",
   "execution_count": 23,
   "id": "a5d6ec14-c035-4289-bb63-a01daa236093",
   "metadata": {},
   "outputs": [
    {
     "name": "stdin",
     "output_type": "stream",
     "text": [
      "Input a statement kasur rusak\n"
     ]
    },
    {
     "name": "stdout",
     "output_type": "stream",
     "text": [
      "kasur rusak\n",
      "s\n",
      "sur rusak\n",
      "su\n",
      "k\n",
      "kasur rusak\n"
     ]
    }
   ],
   "source": [
    "char = input(\"Input a statement\")\n",
    "\n",
    "print(char)\n",
    "print(char[2]) #second char\n",
    "print(char[2:]) #second to the last\n",
    "print(char[2:4]) #second to the 3\n",
    "print(char[-1]) #last character\n",
    "print(char[::-1]) #reverse\n"
   ]
  },
  {
   "cell_type": "markdown",
   "id": "2f4980d6-3d85-4630-8c0f-23bbe283314f",
   "metadata": {},
   "source": [
    "<h1>String Function</h1>"
   ]
  },
  {
   "cell_type": "code",
   "execution_count": 33,
   "id": "25ef1a03-eb99-4c0e-871e-71b8695a1831",
   "metadata": {},
   "outputs": [
    {
     "ename": "SyntaxError",
     "evalue": "'{' was never closed (164086066.py, line 22)",
     "output_type": "error",
     "traceback": [
      "\u001b[1;36m  Cell \u001b[1;32mIn[33], line 22\u001b[1;36m\u001b[0m\n\u001b[1;33m    if(find != -1 and findPeriod != -1){\u001b[0m\n\u001b[1;37m                                       ^\u001b[0m\n\u001b[1;31mSyntaxError\u001b[0m\u001b[1;31m:\u001b[0m '{' was never closed\n"
     ]
    }
   ],
   "source": [
    "name = \"Niki Nishimura\" #split function\n",
    "arrayName = name.split(\" \")\n",
    "print(arrayName)\n",
    "print(\"first name :\", arrayName[0])\n",
    "print(\"second name :\", arrayName[1])\n",
    "print(len(arrayName))\n",
    "\n",
    "#find function\n",
    "id = \"QWeRy12386\"\n",
    "find = id.find(\"Q\")\n",
    "\n",
    "print(find)\n",
    "\n"
   ]
  },
  {
   "cell_type": "code",
   "execution_count": 42,
   "id": "732aa37b-e050-4475-a7cd-31c602b706b7",
   "metadata": {},
   "outputs": [
    {
     "name": "stdin",
     "output_type": "stream",
     "text": [
      "Input your email kermit.asds@asdsa.coom\n"
     ]
    },
    {
     "name": "stdout",
     "output_type": "stream",
     "text": [
      "not a valid email\n"
     ]
    }
   ],
   "source": [
    "#another find function\n",
    "#need an @\n",
    "#need a .\n",
    "#the @ need to be on the left/first before the period\n",
    "email = input(\"Input your email\")\n",
    "findAt = email.find(\"@\")\n",
    "findPeriod = email.find(\".\")\n",
    "\n",
    "validation = \"a valid email\" if find != -1 and findPeriod != -1 and find < findPeriod else \"not a valid email\"\n",
    "\n",
    "print(validation)"
   ]
  },
  {
   "cell_type": "code",
   "execution_count": 58,
   "id": "86690af3-7b16-4b7d-8b6e-ed9175291233",
   "metadata": {},
   "outputs": [
    {
     "name": "stdin",
     "output_type": "stream",
     "text": [
      "Input your number 1234\n"
     ]
    },
    {
     "name": "stdout",
     "output_type": "stream",
     "text": [
      "The result of 1234 - 10 = 1224\n"
     ]
    }
   ],
   "source": [
    "number = input(\"Input your number\")\n",
    "sum = 0\n",
    "\n",
    "for i in range(len(number)):\n",
    "    sum += int(number[i])\n",
    "\n",
    "result = int(number) - sum\n",
    "print(\"The result of {} - {} = {}\".format(number, sum, result))"
   ]
  },
  {
   "cell_type": "markdown",
   "id": "60e165e7-8ecb-4f38-ba74-d8804af63db0",
   "metadata": {},
   "source": [
    "<h1>RNG</h1>"
   ]
  },
  {
   "cell_type": "code",
   "execution_count": 73,
   "id": "6bc303be-b227-4140-98af-b8a51e0a3156",
   "metadata": {},
   "outputs": [
    {
     "name": "stdout",
     "output_type": "stream",
     "text": [
      "0.20960754288992678\n",
      "1\n",
      "yuki\n",
      "what is the sum of 67 + 97?\n"
     ]
    },
    {
     "name": "stdin",
     "output_type": "stream",
     "text": [
      "your answer 100\n"
     ]
    },
    {
     "name": "stdout",
     "output_type": "stream",
     "text": [
      "Your answer is wrong\n"
     ]
    }
   ],
   "source": [
    "from random import random\n",
    "val = random()\n",
    "#random float\n",
    "print(val)\n",
    "\n",
    "\n",
    "from random import randint #random int\n",
    "valInt = randint(0,100)\n",
    "print(valInt)\n",
    "\n",
    "from random import choice #random choice\n",
    "choices = [\"alya\", \"misha\",\"yuki\", \"ayano\", \"chisaki\"]\n",
    "randoChoice = choice(choices)\n",
    "print(randoChoice)\n",
    "\n",
    "\n",
    "value1 = randint(0,100)\n",
    "value2 = randint(0,100)\n",
    "result = value1 + value2\n",
    "\n",
    "print(f\"what is the sum of {value1} + {value2}?\")\n",
    "answer = int(input(\"your answer\"))\n",
    "\n",
    "check = \"Your answer is correct\" if answer == result else \"Your answer is wrong\"\n",
    "print(check)"
   ]
  },
  {
   "cell_type": "code",
   "execution_count": 90,
   "id": "fa2e9891-8dd8-4ece-b559-5909b6cf49bb",
   "metadata": {},
   "outputs": [
    {
     "name": "stdout",
     "output_type": "stream",
     "text": [
      "What is the english word for : bangun\n"
     ]
    },
    {
     "name": "stdin",
     "output_type": "stream",
     "text": [
      "input your answer awka\n"
     ]
    },
    {
     "name": "stdout",
     "output_type": "stream",
     "text": [
      "Your answer is wrong\n"
     ]
    }
   ],
   "source": [
    "from random import choice\n",
    "\n",
    "dictionary = [[\"makan\", \"eat\"],[\"minum\",\"drink\"],[\"tidur\",\"sleep\"],[\"bangun\",\"awake\"],[\"berak\",\"pooping\"]]\n",
    "wordId = choice(dictionary)\n",
    "\n",
    "wordIna = wordId[0]\n",
    "wordEn = wordId\n",
    "print(f\"What is the english word for : {wordIna}\")\n",
    "answer = input(\"input your answer\")\n",
    "\n",
    "result = \"Your answer is right!\" if answer.lower() == wordEn[1] else \"Your answer is wrong\"\n",
    "print(result)\n"
   ]
  }
 ],
 "metadata": {
  "kernelspec": {
   "display_name": "Python 3 (ipykernel)",
   "language": "python",
   "name": "python3"
  },
  "language_info": {
   "codemirror_mode": {
    "name": "ipython",
    "version": 3
   },
   "file_extension": ".py",
   "mimetype": "text/x-python",
   "name": "python",
   "nbconvert_exporter": "python",
   "pygments_lexer": "ipython3",
   "version": "3.12.7"
  }
 },
 "nbformat": 4,
 "nbformat_minor": 5
}
