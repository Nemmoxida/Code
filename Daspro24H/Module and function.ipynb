{
 "cells": [
  {
   "cell_type": "code",
   "execution_count": 28,
   "id": "e90d696b-c234-4801-9951-f2c3c5c763a9",
   "metadata": {},
   "outputs": [
    {
     "name": "stdout",
     "output_type": "stream",
     "text": [
      "2025-05-21\n",
      "\n",
      "The sum of 2 value is : 15\n",
      "\n",
      "50\n"
     ]
    }
   ],
   "source": [
    "import datetime as dt\n",
    "\n",
    "# No parameter function\n",
    "def noPara():\n",
    "    print(dt.date.today())\n",
    "\n",
    "noPara()\n",
    "print()\n",
    "\n",
    "# funcion with parameter\n",
    "def sum(a,b):\n",
    "    print(f\"The sum of 2 value is : {a+b}\")\n",
    "\n",
    "sum(5,10)\n",
    "print()\n",
    "\n",
    "# both of function on the top are Void function\n",
    "# function that do return something\n",
    "def multi(a,b):\n",
    "    return (\n",
    "        a*b\n",
    "    )\n",
    "\n",
    "multiResult = multi(5,10)\n",
    "print(multiResult)"
   ]
  },
  {
   "cell_type": "code",
   "execution_count": 35,
   "id": "a53db416-2209-4438-af75-6bec0a592028",
   "metadata": {},
   "outputs": [
    {
     "name": "stdout",
     "output_type": "stream",
     "text": [
      "5\n"
     ]
    }
   ],
   "source": [
    "# function with parameter in it that have a fixed/default value\n",
    "\n",
    "def subtract(a, b = 10):\n",
    "    print(a-b)\n",
    "\n",
    "subtract(15) # no need to include the b value because in the function it already has a fixed/default value"
   ]
  },
  {
   "cell_type": "code",
   "execution_count": 33,
   "id": "03644ca9-1a3c-42f8-a1e1-7896fa1fd4a8",
   "metadata": {},
   "outputs": [
    {
     "name": "stdout",
     "output_type": "stream",
     "text": [
      "0 1 1 2 3 5 8 13 21 34 55 89 144 "
     ]
    }
   ],
   "source": [
    "# fibonachi sequence with recrusive function in py\n",
    "\n",
    "a = 0\n",
    "b = 1\n",
    "c = 0\n",
    "current = 0 # the current iteration\n",
    "print(a,b, end = \" \")\n",
    "\n",
    "def fibo(a,b,current):\n",
    "\n",
    "    c = a + b\n",
    "    print(c, end = \" \")\n",
    "    if current == 10:\n",
    "        return c\n",
    "    a = b\n",
    "    b = c\n",
    "    current += 1\n",
    "    fibo(a,b,current)\n",
    "\n",
    "fibo(a,b,current)"
   ]
  },
  {
   "cell_type": "code",
   "execution_count": 47,
   "id": "5f1987e0-194a-4f8a-9327-5ca6b79dd6bb",
   "metadata": {},
   "outputs": [
    {
     "name": "stdout",
     "output_type": "stream",
     "text": [
      "Username : kermit\n",
      "Name : Yuuna\n",
      "role : Crook\n",
      "\n",
      "Username : kA\n",
      "Name : kanade\n",
      "role : Thug Boss\n",
      "\n",
      "Username : kA\n",
      "Name : kanade\n",
      "role : Thug Boss\n"
     ]
    }
   ],
   "source": [
    "def useRegist(username, password, name, status = False, role = \"Crook\"):\n",
    "    print(f\"Username : {username}\")\n",
    "    print(f\"Name : {name}\")\n",
    "    print(f\"role : {role}\")\n",
    "\n",
    "useRegist(\"kermit\", \"123\", \"Yuuna\") # The rest of the parameter is default\n",
    "print()\n",
    "useRegist(\"kA\", \"000\", \"kanade\", False, \"Thug Boss\") # here you can overwrite the parameter\n",
    "print()\n",
    "useRegist(\"kA\", \"000\", \"kanade\", role = \"Thug Boss\") # same with above but this way you don't need to rewrite the default value again"
   ]
  },
  {
   "cell_type": "code",
   "execution_count": 66,
   "id": "510000ec-5c23-42b6-a4d9-276fabd6d60f",
   "metadata": {},
   "outputs": [
    {
     "name": "stdout",
     "output_type": "stream",
     "text": [
      "123\n",
      "('data', 'kermit')\n",
      "('name', 'sasha')\n"
     ]
    }
   ],
   "source": [
    "# argument keyword * and **\n",
    "\n",
    "def dataShow(*args, **kwargs):\n",
    "    return args, kwargs\n",
    "\n",
    "# dataShow(\"asdsa\", \"123\", \"poopp\", data = \"kermit\", name = \"sasha\")\n",
    "# you don't need to type/declare a sh*t ton of data. args is for normal input paramater, and kwargs is for you declare a paramater inside of it\n",
    "\n",
    "x,y = dataShow(\"asdsa\", \"123\", \"poopp\", data = \"kermit\", name = \"sasha\") # the position matter, you need to input args and then kwargs\n",
    "print(x[1])\n",
    "\n",
    "for item in y.items(): # i hate tupple\n",
    "    print(item)"
   ]
  },
  {
   "cell_type": "code",
   "execution_count": 98,
   "id": "eba574ee-456e-46e7-8da0-3e66745d5478",
   "metadata": {},
   "outputs": [
    {
     "name": "stdout",
     "output_type": "stream",
     "text": [
      "10\n"
     ]
    }
   ],
   "source": [
    "def sum(*args):\n",
    "    total = 0\n",
    "    for i in args:\n",
    "        total += i\n",
    "    print(total)\n",
    "\n",
    "sum(1,2,3,4)"
   ]
  }
 ],
 "metadata": {
  "kernelspec": {
   "display_name": "Python 3 (ipykernel)",
   "language": "python",
   "name": "python3"
  },
  "language_info": {
   "codemirror_mode": {
    "name": "ipython",
    "version": 3
   },
   "file_extension": ".py",
   "mimetype": "text/x-python",
   "name": "python",
   "nbconvert_exporter": "python",
   "pygments_lexer": "ipython3",
   "version": "3.12.7"
  }
 },
 "nbformat": 4,
 "nbformat_minor": 5
}
